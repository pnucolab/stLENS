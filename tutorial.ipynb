{
 "cells": [
  {
   "cell_type": "markdown",
   "id": "2485b109",
   "metadata": {},
   "source": [
    "## read data"
   ]
  },
  {
   "cell_type": "markdown",
   "id": "86968f7c",
   "metadata": {},
   "source": [
    "### csv file"
   ]
  },
  {
   "cell_type": "code",
   "execution_count": null,
   "id": "6b594c11",
   "metadata": {},
   "outputs": [
    {
     "data": {
      "text/html": [
       "<div>\n",
       "<style scoped>\n",
       "    .dataframe tbody tr th:only-of-type {\n",
       "        vertical-align: middle;\n",
       "    }\n",
       "\n",
       "    .dataframe tbody tr th {\n",
       "        vertical-align: top;\n",
       "    }\n",
       "\n",
       "    .dataframe thead th {\n",
       "        text-align: right;\n",
       "    }\n",
       "</style>\n",
       "<table border=\"1\" class=\"dataframe\">\n",
       "  <thead>\n",
       "    <tr style=\"text-align: right;\">\n",
       "      <th></th>\n",
       "      <th>cell</th>\n",
       "      <th>ENSG00000237683</th>\n",
       "      <th>Unknown</th>\n",
       "      <th>LINC01409</th>\n",
       "      <th>LINC00115</th>\n",
       "      <th>NOC2L</th>\n",
       "      <th>KLHL17</th>\n",
       "      <th>PLEKHN1</th>\n",
       "      <th>HES4</th>\n",
       "      <th>ISG15</th>\n",
       "      <th>...</th>\n",
       "      <th>MT-ND6</th>\n",
       "      <th>MT-CYB</th>\n",
       "      <th>ENSG00000215750</th>\n",
       "      <th>ENSG00000215781</th>\n",
       "      <th>ENSG00000220023</th>\n",
       "      <th>ENSG00000212884</th>\n",
       "      <th>ENSG00000215615</th>\n",
       "      <th>ENSG00000215764</th>\n",
       "      <th>ENSG00000215700</th>\n",
       "      <th>ENSG00000215699</th>\n",
       "    </tr>\n",
       "  </thead>\n",
       "  <tbody>\n",
       "    <tr>\n",
       "      <th>0</th>\n",
       "      <td>b.cells</td>\n",
       "      <td>0.0</td>\n",
       "      <td>1.0</td>\n",
       "      <td>0.0</td>\n",
       "      <td>0.0</td>\n",
       "      <td>0.0</td>\n",
       "      <td>0.0</td>\n",
       "      <td>0.0</td>\n",
       "      <td>0.0</td>\n",
       "      <td>0.0</td>\n",
       "      <td>...</td>\n",
       "      <td>0.0</td>\n",
       "      <td>2.0</td>\n",
       "      <td>0.0</td>\n",
       "      <td>0.0</td>\n",
       "      <td>0.0</td>\n",
       "      <td>0.0</td>\n",
       "      <td>0.0</td>\n",
       "      <td>0.0</td>\n",
       "      <td>0.0</td>\n",
       "      <td>0.0</td>\n",
       "    </tr>\n",
       "    <tr>\n",
       "      <th>1</th>\n",
       "      <td>b.cells</td>\n",
       "      <td>0.0</td>\n",
       "      <td>0.0</td>\n",
       "      <td>0.0</td>\n",
       "      <td>0.0</td>\n",
       "      <td>0.0</td>\n",
       "      <td>0.0</td>\n",
       "      <td>0.0</td>\n",
       "      <td>0.0</td>\n",
       "      <td>0.0</td>\n",
       "      <td>...</td>\n",
       "      <td>0.0</td>\n",
       "      <td>1.0</td>\n",
       "      <td>0.0</td>\n",
       "      <td>0.0</td>\n",
       "      <td>0.0</td>\n",
       "      <td>0.0</td>\n",
       "      <td>0.0</td>\n",
       "      <td>0.0</td>\n",
       "      <td>0.0</td>\n",
       "      <td>0.0</td>\n",
       "    </tr>\n",
       "    <tr>\n",
       "      <th>2</th>\n",
       "      <td>b.cells</td>\n",
       "      <td>0.0</td>\n",
       "      <td>0.0</td>\n",
       "      <td>0.0</td>\n",
       "      <td>0.0</td>\n",
       "      <td>0.0</td>\n",
       "      <td>0.0</td>\n",
       "      <td>0.0</td>\n",
       "      <td>0.0</td>\n",
       "      <td>0.0</td>\n",
       "      <td>...</td>\n",
       "      <td>0.0</td>\n",
       "      <td>3.0</td>\n",
       "      <td>0.0</td>\n",
       "      <td>0.0</td>\n",
       "      <td>0.0</td>\n",
       "      <td>0.0</td>\n",
       "      <td>0.0</td>\n",
       "      <td>0.0</td>\n",
       "      <td>0.0</td>\n",
       "      <td>0.0</td>\n",
       "    </tr>\n",
       "    <tr>\n",
       "      <th>3</th>\n",
       "      <td>b.cells</td>\n",
       "      <td>0.0</td>\n",
       "      <td>0.0</td>\n",
       "      <td>0.0</td>\n",
       "      <td>0.0</td>\n",
       "      <td>0.0</td>\n",
       "      <td>0.0</td>\n",
       "      <td>0.0</td>\n",
       "      <td>0.0</td>\n",
       "      <td>0.0</td>\n",
       "      <td>...</td>\n",
       "      <td>0.0</td>\n",
       "      <td>9.0</td>\n",
       "      <td>0.0</td>\n",
       "      <td>0.0</td>\n",
       "      <td>0.0</td>\n",
       "      <td>0.0</td>\n",
       "      <td>0.0</td>\n",
       "      <td>0.0</td>\n",
       "      <td>0.0</td>\n",
       "      <td>0.0</td>\n",
       "    </tr>\n",
       "    <tr>\n",
       "      <th>4</th>\n",
       "      <td>b.cells</td>\n",
       "      <td>0.0</td>\n",
       "      <td>0.0</td>\n",
       "      <td>0.0</td>\n",
       "      <td>0.0</td>\n",
       "      <td>0.0</td>\n",
       "      <td>0.0</td>\n",
       "      <td>0.0</td>\n",
       "      <td>0.0</td>\n",
       "      <td>0.0</td>\n",
       "      <td>...</td>\n",
       "      <td>0.0</td>\n",
       "      <td>3.0</td>\n",
       "      <td>0.0</td>\n",
       "      <td>0.0</td>\n",
       "      <td>0.0</td>\n",
       "      <td>0.0</td>\n",
       "      <td>0.0</td>\n",
       "      <td>0.0</td>\n",
       "      <td>0.0</td>\n",
       "      <td>0.0</td>\n",
       "    </tr>\n",
       "    <tr>\n",
       "      <th>...</th>\n",
       "      <td>...</td>\n",
       "      <td>...</td>\n",
       "      <td>...</td>\n",
       "      <td>...</td>\n",
       "      <td>...</td>\n",
       "      <td>...</td>\n",
       "      <td>...</td>\n",
       "      <td>...</td>\n",
       "      <td>...</td>\n",
       "      <td>...</td>\n",
       "      <td>...</td>\n",
       "      <td>...</td>\n",
       "      <td>...</td>\n",
       "      <td>...</td>\n",
       "      <td>...</td>\n",
       "      <td>...</td>\n",
       "      <td>...</td>\n",
       "      <td>...</td>\n",
       "      <td>...</td>\n",
       "      <td>...</td>\n",
       "      <td>...</td>\n",
       "    </tr>\n",
       "    <tr>\n",
       "      <th>3989</th>\n",
       "      <td>naive.t</td>\n",
       "      <td>0.0</td>\n",
       "      <td>0.0</td>\n",
       "      <td>0.0</td>\n",
       "      <td>0.0</td>\n",
       "      <td>0.0</td>\n",
       "      <td>0.0</td>\n",
       "      <td>0.0</td>\n",
       "      <td>0.0</td>\n",
       "      <td>0.0</td>\n",
       "      <td>...</td>\n",
       "      <td>0.0</td>\n",
       "      <td>2.0</td>\n",
       "      <td>0.0</td>\n",
       "      <td>0.0</td>\n",
       "      <td>0.0</td>\n",
       "      <td>0.0</td>\n",
       "      <td>0.0</td>\n",
       "      <td>0.0</td>\n",
       "      <td>0.0</td>\n",
       "      <td>0.0</td>\n",
       "    </tr>\n",
       "    <tr>\n",
       "      <th>3990</th>\n",
       "      <td>naive.t</td>\n",
       "      <td>0.0</td>\n",
       "      <td>0.0</td>\n",
       "      <td>0.0</td>\n",
       "      <td>0.0</td>\n",
       "      <td>0.0</td>\n",
       "      <td>0.0</td>\n",
       "      <td>0.0</td>\n",
       "      <td>0.0</td>\n",
       "      <td>0.0</td>\n",
       "      <td>...</td>\n",
       "      <td>0.0</td>\n",
       "      <td>3.0</td>\n",
       "      <td>0.0</td>\n",
       "      <td>0.0</td>\n",
       "      <td>0.0</td>\n",
       "      <td>0.0</td>\n",
       "      <td>0.0</td>\n",
       "      <td>0.0</td>\n",
       "      <td>0.0</td>\n",
       "      <td>0.0</td>\n",
       "    </tr>\n",
       "    <tr>\n",
       "      <th>3991</th>\n",
       "      <td>naive.t</td>\n",
       "      <td>0.0</td>\n",
       "      <td>0.0</td>\n",
       "      <td>0.0</td>\n",
       "      <td>0.0</td>\n",
       "      <td>0.0</td>\n",
       "      <td>0.0</td>\n",
       "      <td>0.0</td>\n",
       "      <td>0.0</td>\n",
       "      <td>0.0</td>\n",
       "      <td>...</td>\n",
       "      <td>0.0</td>\n",
       "      <td>2.0</td>\n",
       "      <td>0.0</td>\n",
       "      <td>0.0</td>\n",
       "      <td>0.0</td>\n",
       "      <td>0.0</td>\n",
       "      <td>0.0</td>\n",
       "      <td>0.0</td>\n",
       "      <td>0.0</td>\n",
       "      <td>0.0</td>\n",
       "    </tr>\n",
       "    <tr>\n",
       "      <th>3992</th>\n",
       "      <td>naive.t</td>\n",
       "      <td>0.0</td>\n",
       "      <td>0.0</td>\n",
       "      <td>0.0</td>\n",
       "      <td>0.0</td>\n",
       "      <td>0.0</td>\n",
       "      <td>0.0</td>\n",
       "      <td>0.0</td>\n",
       "      <td>0.0</td>\n",
       "      <td>1.0</td>\n",
       "      <td>...</td>\n",
       "      <td>0.0</td>\n",
       "      <td>2.0</td>\n",
       "      <td>0.0</td>\n",
       "      <td>0.0</td>\n",
       "      <td>0.0</td>\n",
       "      <td>0.0</td>\n",
       "      <td>0.0</td>\n",
       "      <td>0.0</td>\n",
       "      <td>0.0</td>\n",
       "      <td>0.0</td>\n",
       "    </tr>\n",
       "    <tr>\n",
       "      <th>3993</th>\n",
       "      <td>naive.t</td>\n",
       "      <td>0.0</td>\n",
       "      <td>0.0</td>\n",
       "      <td>0.0</td>\n",
       "      <td>0.0</td>\n",
       "      <td>0.0</td>\n",
       "      <td>0.0</td>\n",
       "      <td>0.0</td>\n",
       "      <td>0.0</td>\n",
       "      <td>0.0</td>\n",
       "      <td>...</td>\n",
       "      <td>0.0</td>\n",
       "      <td>2.0</td>\n",
       "      <td>0.0</td>\n",
       "      <td>0.0</td>\n",
       "      <td>0.0</td>\n",
       "      <td>0.0</td>\n",
       "      <td>0.0</td>\n",
       "      <td>0.0</td>\n",
       "      <td>1.0</td>\n",
       "      <td>0.0</td>\n",
       "    </tr>\n",
       "  </tbody>\n",
       "</table>\n",
       "<p>3994 rows × 15717 columns</p>\n",
       "</div>"
      ],
      "text/plain": [
       "         cell  ENSG00000237683  Unknown  LINC01409  LINC00115  NOC2L  KLHL17  \\\n",
       "0     b.cells              0.0      1.0        0.0        0.0    0.0     0.0   \n",
       "1     b.cells              0.0      0.0        0.0        0.0    0.0     0.0   \n",
       "2     b.cells              0.0      0.0        0.0        0.0    0.0     0.0   \n",
       "3     b.cells              0.0      0.0        0.0        0.0    0.0     0.0   \n",
       "4     b.cells              0.0      0.0        0.0        0.0    0.0     0.0   \n",
       "...       ...              ...      ...        ...        ...    ...     ...   \n",
       "3989  naive.t              0.0      0.0        0.0        0.0    0.0     0.0   \n",
       "3990  naive.t              0.0      0.0        0.0        0.0    0.0     0.0   \n",
       "3991  naive.t              0.0      0.0        0.0        0.0    0.0     0.0   \n",
       "3992  naive.t              0.0      0.0        0.0        0.0    0.0     0.0   \n",
       "3993  naive.t              0.0      0.0        0.0        0.0    0.0     0.0   \n",
       "\n",
       "      PLEKHN1  HES4  ISG15  ...  MT-ND6  MT-CYB  ENSG00000215750  \\\n",
       "0         0.0   0.0    0.0  ...     0.0     2.0              0.0   \n",
       "1         0.0   0.0    0.0  ...     0.0     1.0              0.0   \n",
       "2         0.0   0.0    0.0  ...     0.0     3.0              0.0   \n",
       "3         0.0   0.0    0.0  ...     0.0     9.0              0.0   \n",
       "4         0.0   0.0    0.0  ...     0.0     3.0              0.0   \n",
       "...       ...   ...    ...  ...     ...     ...              ...   \n",
       "3989      0.0   0.0    0.0  ...     0.0     2.0              0.0   \n",
       "3990      0.0   0.0    0.0  ...     0.0     3.0              0.0   \n",
       "3991      0.0   0.0    0.0  ...     0.0     2.0              0.0   \n",
       "3992      0.0   0.0    1.0  ...     0.0     2.0              0.0   \n",
       "3993      0.0   0.0    0.0  ...     0.0     2.0              0.0   \n",
       "\n",
       "      ENSG00000215781  ENSG00000220023  ENSG00000212884  ENSG00000215615  \\\n",
       "0                 0.0              0.0              0.0              0.0   \n",
       "1                 0.0              0.0              0.0              0.0   \n",
       "2                 0.0              0.0              0.0              0.0   \n",
       "3                 0.0              0.0              0.0              0.0   \n",
       "4                 0.0              0.0              0.0              0.0   \n",
       "...               ...              ...              ...              ...   \n",
       "3989              0.0              0.0              0.0              0.0   \n",
       "3990              0.0              0.0              0.0              0.0   \n",
       "3991              0.0              0.0              0.0              0.0   \n",
       "3992              0.0              0.0              0.0              0.0   \n",
       "3993              0.0              0.0              0.0              0.0   \n",
       "\n",
       "      ENSG00000215764  ENSG00000215700  ENSG00000215699  \n",
       "0                 0.0              0.0              0.0  \n",
       "1                 0.0              0.0              0.0  \n",
       "2                 0.0              0.0              0.0  \n",
       "3                 0.0              0.0              0.0  \n",
       "4                 0.0              0.0              0.0  \n",
       "...               ...              ...              ...  \n",
       "3989              0.0              0.0              0.0  \n",
       "3990              0.0              0.0              0.0  \n",
       "3991              0.0              0.0              0.0  \n",
       "3992              0.0              0.0              0.0  \n",
       "3993              0.0              1.0              0.0  \n",
       "\n",
       "[3994 rows x 15717 columns]"
      ]
     },
     "execution_count": 2,
     "metadata": {},
     "output_type": "execute_result"
    }
   ],
   "source": [
    "import pandas as pd\n",
    "import scanpy as sc\n",
    "\n",
    "df = pd.read_csv(\"\")\n",
    "df"
   ]
  },
  {
   "cell_type": "markdown",
   "id": "b58ca5cc",
   "metadata": {},
   "source": [
    "### anndata"
   ]
  },
  {
   "cell_type": "code",
   "execution_count": null,
   "id": "1e952389",
   "metadata": {},
   "outputs": [],
   "source": [
    "import scanpy as sc\n",
    "adata = sc.read_h5ad(\"\")"
   ]
  },
  {
   "cell_type": "markdown",
   "id": "22f91d56",
   "metadata": {},
   "source": [
    "## execution - scLENS"
   ]
  },
  {
   "cell_type": "code",
   "execution_count": null,
   "id": "1ce7260d",
   "metadata": {},
   "outputs": [
    {
     "name": "stderr",
     "output_type": "stream",
     "text": [
      "/home/khyeonmin/micromamba/envs/scLENS-py/lib/python3.12/site-packages/tqdm/auto.py:21: TqdmWarning: IProgress not found. Please update jupyter and ipywidgets. See https://ipywidgets.readthedocs.io/en/stable/user_install.html\n",
      "  from .autonotebook import tqdm as notebook_tqdm\n"
     ]
    }
   ],
   "source": [
    "from src import find_optimal_pc\n",
    "fop = find_optimal_pc.find_optimal_pc()"
   ]
  },
  {
   "cell_type": "markdown",
   "id": "cc2646e4",
   "metadata": {},
   "source": [
    "### directory setting"
   ]
  },
  {
   "cell_type": "code",
   "execution_count": null,
   "id": "6d942554",
   "metadata": {},
   "outputs": [],
   "source": [
    "import os\n",
    "import shutil\n",
    "\n",
    "file_name = \"test_fop\"\n",
    "\n",
    "directory = f\"./output/{file_name}\"\n",
    "fop.directory = directory"
   ]
  },
  {
   "cell_type": "markdown",
   "id": "7c59cca8",
   "metadata": {},
   "source": [
    "### In the preprocess stage, if filter is set to False, filtering is performed using Scanpy."
   ]
  },
  {
   "cell_type": "code",
   "execution_count": null,
   "id": "9a9802d5",
   "metadata": {},
   "outputs": [],
   "source": [
    "# import scanpy as sc\n",
    "\n",
    "# adata.var['mt'] = adata.var_names.str.startswith('MT-')\n",
    "# sc.pp.calculate_qc_metrics(adata, qc_vars=['mt'], percent_top=None, log1p=True, inplace=False)\n",
    "\n",
    "# sc.pp.filter_cells(adata, min_genes=200)\n",
    "# sc.pp.filter_genes(adata, min_cells=15)"
   ]
  },
  {
   "cell_type": "code",
   "execution_count": 5,
   "id": "d96883b1",
   "metadata": {},
   "outputs": [
    {
     "name": "stdout",
     "output_type": "stream",
     "text": [
      "After filtering >> shape: (529, 452)\n",
      "plotting the result of preprocessing\n"
     ]
    },
    {
     "data": {
      "image/png": "[encoded data removed]",
      "text/plain": [
       "<Figure size 1000x500 with 2 Axes>"
      ]
     },
     "metadata": {},
     "output_type": "display_data"
    },
    {
     "data": {
      "image/png": "[encoded data removed]",
      "text/plain": [
       "<Figure size 1000x500 with 2 Axes>"
      ]
     },
     "metadata": {},
     "output_type": "display_data"
    },
    {
     "name": "stdout",
     "output_type": "stream",
     "text": [
      "CPU times: user 5.89 ms, sys: 27.2 ms, total: 33.1 ms\n",
      "Wall time: 3.04 s\n"
     ]
    }
   ],
   "source": [
    "%%time\n",
    "fop.preprocess(adata, filter=True, plot=True)"
   ]
  },
  {
   "cell_type": "code",
   "execution_count": null,
   "id": "7961d166",
   "metadata": {},
   "outputs": [
    {
     "name": "stdout",
     "output_type": "stream",
     "text": [
      "sparsity_th: 0.1515436123641356\n",
      "Min(corr): 0.3197932541370392, sparsity: 0.999\n",
      "Min(corr): 0.2525545060634613, sparsity: 0.998\n",
      "Min(corr): 0.23168830573558807, sparsity: 0.997\n",
      "Min(corr): 0.22546571493148804, sparsity: 0.996\n",
      "Min(corr): 0.19679975509643555, sparsity: 0.995\n",
      "Min(corr): 0.2020200490951538, sparsity: 0.994\n",
      "Min(corr): 0.19937016069889069, sparsity: 0.993\n",
      "Min(corr): 0.18674272298812866, sparsity: 0.992\n",
      "Min(corr): 0.1886834353208542, sparsity: 0.991\n",
      "Min(corr): 0.18460331857204437, sparsity: 0.99\n",
      "Min(corr): 0.1818818300962448, sparsity: 0.989\n",
      "Min(corr): 0.17645111680030823, sparsity: 0.988\n",
      "Min(corr): 0.17204704880714417, sparsity: 0.987\n",
      "Min(corr): 0.1776641309261322, sparsity: 0.986\n",
      "Min(corr): 0.17113958299160004, sparsity: 0.985\n",
      "Min(corr): 0.16405656933784485, sparsity: 0.984\n",
      "Min(corr): 0.16178542375564575, sparsity: 0.983\n",
      "Min(corr): 0.16353148221969604, sparsity: 0.982\n",
      "Min(corr): 0.167475625872612, sparsity: 0.981\n",
      "Min(corr): 0.15851661562919617, sparsity: 0.98\n",
      "Min(corr): 0.16225850582122803, sparsity: 0.979\n",
      "Min(corr): 0.16502073407173157, sparsity: 0.978\n",
      "Min(corr): 0.15476533770561218, sparsity: 0.977\n",
      "Min(corr): 0.15480780601501465, sparsity: 0.976\n",
      "Min(corr): 0.15381041169166565, sparsity: 0.975\n",
      "Min(corr): 0.15885083377361298, sparsity: 0.974\n",
      "Min(corr): 0.1631810963153839, sparsity: 0.973\n",
      "Min(corr): 0.1495794951915741, sparsity: 0.972\n",
      "Min(corr): 0.1506188064813614, sparsity: 0.971\n",
      "Min(corr): 0.15698426961898804, sparsity: 0.97\n",
      "Min(corr): 0.15150994062423706, sparsity: 0.969\n",
      "Min(corr): 0.14215871691703796, sparsity: 0.968\n",
      "Min(corr): 0.15528257191181183, sparsity: 0.967\n",
      "Min(corr): 0.14399327337741852, sparsity: 0.966\n",
      "Min(corr): 0.1525619775056839, sparsity: 0.965\n",
      "Min(corr): 0.14975520968437195, sparsity: 0.964\n",
      "Min(corr): 0.15024013817310333, sparsity: 0.963\n",
      "Min(corr): 0.13907378911972046, sparsity: 0.962\n",
      "Min(corr): 0.15242399275302887, sparsity: 0.961\n",
      "Min(corr): 0.1513635516166687, sparsity: 0.96\n",
      "Min(corr): 0.14157447218894958, sparsity: 0.959\n",
      "Min(corr): 0.14210376143455505, sparsity: 0.958\n",
      "Min(corr): 0.1426171064376831, sparsity: 0.957\n",
      "Min(corr): 0.14129358530044556, sparsity: 0.956\n",
      "Max interactions exceeded!\n",
      "lambda_c: 2.3922944\n",
      "Number of signal components: 27\n"
     ]
    },
    {
     "name": "stderr",
     "output_type": "stream",
     "text": [
      "100%|██████████| 20/20 [00:25<00:00,  1.28s/it]\n"
     ]
    },
    {
     "name": "stdout",
     "output_type": "stream",
     "text": [
      "CPU times: user 1min 52s, sys: 5.29 s, total: 1min 57s\n",
      "Wall time: 1min 17s\n"
     ]
    },
    {
     "data": {
      "text/plain": [
       "19"
      ]
     },
     "metadata": {},
     "output_type": "display_data"
    }
   ],
   "source": [
    "%%time\n",
    "fop.fit_transform(device = 'gpu', plot_mp = False)"
   ]
  },
  {
   "cell_type": "markdown",
   "id": "b0e0ec1e",
   "metadata": {},
   "source": [
    "# execution - optimal PC num"
   ]
  },
  {
   "cell_type": "code",
   "execution_count": null,
   "id": "58a6f544",
   "metadata": {},
   "outputs": [
    {
     "name": "stderr",
     "output_type": "stream",
     "text": [
      "/home/khyeonmin/micromamba/envs/scLENS-py/lib/python3.12/site-packages/tqdm/auto.py:21: TqdmWarning: IProgress not found. Please update jupyter and ipywidgets. See https://ipywidgets.readthedocs.io/en/stable/user_install.html\n",
      "  from .autonotebook import tqdm as notebook_tqdm\n"
     ]
    }
   ],
   "source": [
    "from src import scLENS_py\n",
    "sclens = scLENS_py.scLENS_py()"
   ]
  },
  {
   "cell_type": "markdown",
   "id": "02af129d",
   "metadata": {},
   "source": [
    "### directory setting"
   ]
  },
  {
   "cell_type": "code",
   "execution_count": null,
   "id": "15dba1a6",
   "metadata": {},
   "outputs": [],
   "source": [
    "import os\n",
    "import shutil\n",
    "\n",
    "file_name = \"test_sclens\"\n",
    "\n",
    "directory = f\"./output/{file_name}\"\n",
    "sclens.directory = directory"
   ]
  },
  {
   "cell_type": "markdown",
   "id": "5d4aeed1",
   "metadata": {},
   "source": [
    "### In the preprocess stage, if filter is set to False, filtering is performed using Scanpy."
   ]
  },
  {
   "cell_type": "code",
   "execution_count": null,
   "id": "11b93f00",
   "metadata": {},
   "outputs": [],
   "source": [
    "# import scanpy as sc\n",
    "\n",
    "# adata.var['mt'] = adata.var_names.str.startswith('MT-')\n",
    "# sc.pp.calculate_qc_metrics(adata, qc_vars=['mt'], percent_top=None, log1p=True, inplace=False)\n",
    "\n",
    "# sc.pp.filter_cells(adata, min_genes=200)\n",
    "# sc.pp.filter_genes(adata, min_cells=15)"
   ]
  },
  {
   "cell_type": "code",
   "execution_count": 5,
   "id": "83532fcf",
   "metadata": {},
   "outputs": [
    {
     "name": "stdout",
     "output_type": "stream",
     "text": [
      "After filtering >> shape: (529, 452)\n",
      "plotting the result of preprocessing\n"
     ]
    },
    {
     "data": {
      "image/png": "[encoded data removed]",
      "text/plain": [
       "<Figure size 1000x500 with 2 Axes>"
      ]
     },
     "metadata": {},
     "output_type": "display_data"
    },
    {
     "data": {
      "image/png": "[encoded data removed]",
      "text/plain": [
       "<Figure size 1000x500 with 2 Axes>"
      ]
     },
     "metadata": {},
     "output_type": "display_data"
    },
    {
     "name": "stdout",
     "output_type": "stream",
     "text": [
      "CPU times: user 14 ms, sys: 20.9 ms, total: 34.9 ms\n",
      "Wall time: 2.96 s\n"
     ]
    }
   ],
   "source": [
    "%%time\n",
    "sclens.preprocess(adata, filter=True, plot=True)"
   ]
  },
  {
   "cell_type": "code",
   "execution_count": 6,
   "id": "ea051e61",
   "metadata": {},
   "outputs": [
    {
     "name": "stdout",
     "output_type": "stream",
     "text": [
      "Max interactions exceeded!\n",
      "lambda_c: 2.3922944\n",
      "Number of signal components: 27\n"
     ]
    },
    {
     "name": "stderr",
     "output_type": "stream",
     "text": [
      "100%|██████████| 20/20 [00:21<00:00,  1.07s/it]\n"
     ]
    },
    {
     "name": "stdout",
     "output_type": "stream",
     "text": [
      "CPU times: user 44.9 s, sys: 1min 8s, total: 1min 53s\n",
      "Wall time: 24.7 s\n"
     ]
    },
    {
     "data": {
      "text/plain": [
       "array([[ 0.05305998, -0.06329257, -0.26500455, ..., -0.13598247,\n",
       "         0.13977186,  0.22024248],\n",
       "       [-0.02892696, -0.04061029, -0.25785159, ..., -0.13645899,\n",
       "         0.14971321,  0.24538552],\n",
       "       [-0.03073738, -0.04497677, -0.0439507 , ..., -0.14388086,\n",
       "         0.49350749, -0.43852693],\n",
       "       ...,\n",
       "       [ 0.11450852, -0.07953336,  0.06737334, ..., -0.01258987,\n",
       "         0.06698518,  0.155619  ],\n",
       "       [ 0.05106805,  0.08356992, -0.04398781, ..., -0.12617633,\n",
       "        -0.27159872, -0.30877154],\n",
       "       [ 0.04075696, -0.08082373, -0.08120669, ..., -0.1227511 ,\n",
       "        -0.31595654, -0.07768378]], shape=(529, 20))"
      ]
     },
     "execution_count": 7,
     "metadata": {},
     "output_type": "execute_result"
    }
   ],
   "source": [
    "%%time\n",
    "sclens.fit_transform(device = 'gpu', plot_mp = False)"
   ]
  },
  {
   "cell_type": "code",
   "execution_count": null,
   "id": "ffa8c5b9",
   "metadata": {},
   "outputs": [
    {
     "data": {
      "image/png": "[encoded data removed]",
      "text/plain": [
       "<Figure size 700x500 with 1 Axes>"
      ]
     },
     "metadata": {},
     "output_type": "display_data"
    }
   ],
   "source": [
    "sclens.plot_robust_score()"
   ]
  }
 ],
 "metadata": {
  "kernelspec": {
   "display_name": "scLENS-py",
   "language": "python",
   "name": "python3"
  },
  "language_info": {
   "codemirror_mode": {
    "name": "ipython",
    "version": 3
   },
   "file_extension": ".py",
   "mimetype": "text/x-python",
   "name": "python",
   "nbconvert_exporter": "python",
   "pygments_lexer": "ipython3",
   "version": "3.12.10"
  }
 },
 "nbformat": 4,
 "nbformat_minor": 5
}
