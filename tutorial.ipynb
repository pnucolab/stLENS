{
 "cells": [
  {
   "cell_type": "markdown",
   "id": "2485b109",
   "metadata": {},
   "source": [
    "## read data"
   ]
  },
  {
   "cell_type": "markdown",
   "id": "86968f7c",
   "metadata": {},
   "source": [
    "### csv"
   ]
  },
  {
   "cell_type": "code",
   "execution_count": null,
   "id": "6b594c11",
   "metadata": {},
   "outputs": [
    {
     "data": {
      "text/html": [
       "<div>\n",
       "<style scoped>\n",
       "    .dataframe tbody tr th:only-of-type {\n",
       "        vertical-align: middle;\n",
       "    }\n",
       "\n",
       "    .dataframe tbody tr th {\n",
       "        vertical-align: top;\n",
       "    }\n",
       "\n",
       "    .dataframe thead th {\n",
       "        text-align: right;\n",
       "    }\n",
       "</style>\n",
       "<table border=\"1\" class=\"dataframe\">\n",
       "  <thead>\n",
       "    <tr style=\"text-align: right;\">\n",
       "      <th></th>\n",
       "      <th>cell</th>\n",
       "      <th>ENSG00000237683</th>\n",
       "      <th>Unknown</th>\n",
       "      <th>LINC01409</th>\n",
       "      <th>LINC00115</th>\n",
       "      <th>NOC2L</th>\n",
       "      <th>KLHL17</th>\n",
       "      <th>PLEKHN1</th>\n",
       "      <th>HES4</th>\n",
       "      <th>ISG15</th>\n",
       "      <th>...</th>\n",
       "      <th>MT-ND6</th>\n",
       "      <th>MT-CYB</th>\n",
       "      <th>ENSG00000215750</th>\n",
       "      <th>ENSG00000215781</th>\n",
       "      <th>ENSG00000220023</th>\n",
       "      <th>ENSG00000212884</th>\n",
       "      <th>ENSG00000215615</th>\n",
       "      <th>ENSG00000215764</th>\n",
       "      <th>ENSG00000215700</th>\n",
       "      <th>ENSG00000215699</th>\n",
       "    </tr>\n",
       "  </thead>\n",
       "  <tbody>\n",
       "    <tr>\n",
       "      <th>0</th>\n",
       "      <td>b.cells</td>\n",
       "      <td>0.0</td>\n",
       "      <td>1.0</td>\n",
       "      <td>0.0</td>\n",
       "      <td>0.0</td>\n",
       "      <td>0.0</td>\n",
       "      <td>0.0</td>\n",
       "      <td>0.0</td>\n",
       "      <td>0.0</td>\n",
       "      <td>0.0</td>\n",
       "      <td>...</td>\n",
       "      <td>0.0</td>\n",
       "      <td>2.0</td>\n",
       "      <td>0.0</td>\n",
       "      <td>0.0</td>\n",
       "      <td>0.0</td>\n",
       "      <td>0.0</td>\n",
       "      <td>0.0</td>\n",
       "      <td>0.0</td>\n",
       "      <td>0.0</td>\n",
       "      <td>0.0</td>\n",
       "    </tr>\n",
       "    <tr>\n",
       "      <th>1</th>\n",
       "      <td>b.cells</td>\n",
       "      <td>0.0</td>\n",
       "      <td>0.0</td>\n",
       "      <td>0.0</td>\n",
       "      <td>0.0</td>\n",
       "      <td>0.0</td>\n",
       "      <td>0.0</td>\n",
       "      <td>0.0</td>\n",
       "      <td>0.0</td>\n",
       "      <td>0.0</td>\n",
       "      <td>...</td>\n",
       "      <td>0.0</td>\n",
       "      <td>1.0</td>\n",
       "      <td>0.0</td>\n",
       "      <td>0.0</td>\n",
       "      <td>0.0</td>\n",
       "      <td>0.0</td>\n",
       "      <td>0.0</td>\n",
       "      <td>0.0</td>\n",
       "      <td>0.0</td>\n",
       "      <td>0.0</td>\n",
       "    </tr>\n",
       "    <tr>\n",
       "      <th>2</th>\n",
       "      <td>b.cells</td>\n",
       "      <td>0.0</td>\n",
       "      <td>0.0</td>\n",
       "      <td>0.0</td>\n",
       "      <td>0.0</td>\n",
       "      <td>0.0</td>\n",
       "      <td>0.0</td>\n",
       "      <td>0.0</td>\n",
       "      <td>0.0</td>\n",
       "      <td>0.0</td>\n",
       "      <td>...</td>\n",
       "      <td>0.0</td>\n",
       "      <td>3.0</td>\n",
       "      <td>0.0</td>\n",
       "      <td>0.0</td>\n",
       "      <td>0.0</td>\n",
       "      <td>0.0</td>\n",
       "      <td>0.0</td>\n",
       "      <td>0.0</td>\n",
       "      <td>0.0</td>\n",
       "      <td>0.0</td>\n",
       "    </tr>\n",
       "    <tr>\n",
       "      <th>3</th>\n",
       "      <td>b.cells</td>\n",
       "      <td>0.0</td>\n",
       "      <td>0.0</td>\n",
       "      <td>0.0</td>\n",
       "      <td>0.0</td>\n",
       "      <td>0.0</td>\n",
       "      <td>0.0</td>\n",
       "      <td>0.0</td>\n",
       "      <td>0.0</td>\n",
       "      <td>0.0</td>\n",
       "      <td>...</td>\n",
       "      <td>0.0</td>\n",
       "      <td>9.0</td>\n",
       "      <td>0.0</td>\n",
       "      <td>0.0</td>\n",
       "      <td>0.0</td>\n",
       "      <td>0.0</td>\n",
       "      <td>0.0</td>\n",
       "      <td>0.0</td>\n",
       "      <td>0.0</td>\n",
       "      <td>0.0</td>\n",
       "    </tr>\n",
       "    <tr>\n",
       "      <th>4</th>\n",
       "      <td>b.cells</td>\n",
       "      <td>0.0</td>\n",
       "      <td>0.0</td>\n",
       "      <td>0.0</td>\n",
       "      <td>0.0</td>\n",
       "      <td>0.0</td>\n",
       "      <td>0.0</td>\n",
       "      <td>0.0</td>\n",
       "      <td>0.0</td>\n",
       "      <td>0.0</td>\n",
       "      <td>...</td>\n",
       "      <td>0.0</td>\n",
       "      <td>3.0</td>\n",
       "      <td>0.0</td>\n",
       "      <td>0.0</td>\n",
       "      <td>0.0</td>\n",
       "      <td>0.0</td>\n",
       "      <td>0.0</td>\n",
       "      <td>0.0</td>\n",
       "      <td>0.0</td>\n",
       "      <td>0.0</td>\n",
       "    </tr>\n",
       "    <tr>\n",
       "      <th>...</th>\n",
       "      <td>...</td>\n",
       "      <td>...</td>\n",
       "      <td>...</td>\n",
       "      <td>...</td>\n",
       "      <td>...</td>\n",
       "      <td>...</td>\n",
       "      <td>...</td>\n",
       "      <td>...</td>\n",
       "      <td>...</td>\n",
       "      <td>...</td>\n",
       "      <td>...</td>\n",
       "      <td>...</td>\n",
       "      <td>...</td>\n",
       "      <td>...</td>\n",
       "      <td>...</td>\n",
       "      <td>...</td>\n",
       "      <td>...</td>\n",
       "      <td>...</td>\n",
       "      <td>...</td>\n",
       "      <td>...</td>\n",
       "      <td>...</td>\n",
       "    </tr>\n",
       "    <tr>\n",
       "      <th>3989</th>\n",
       "      <td>naive.t</td>\n",
       "      <td>0.0</td>\n",
       "      <td>0.0</td>\n",
       "      <td>0.0</td>\n",
       "      <td>0.0</td>\n",
       "      <td>0.0</td>\n",
       "      <td>0.0</td>\n",
       "      <td>0.0</td>\n",
       "      <td>0.0</td>\n",
       "      <td>0.0</td>\n",
       "      <td>...</td>\n",
       "      <td>0.0</td>\n",
       "      <td>2.0</td>\n",
       "      <td>0.0</td>\n",
       "      <td>0.0</td>\n",
       "      <td>0.0</td>\n",
       "      <td>0.0</td>\n",
       "      <td>0.0</td>\n",
       "      <td>0.0</td>\n",
       "      <td>0.0</td>\n",
       "      <td>0.0</td>\n",
       "    </tr>\n",
       "    <tr>\n",
       "      <th>3990</th>\n",
       "      <td>naive.t</td>\n",
       "      <td>0.0</td>\n",
       "      <td>0.0</td>\n",
       "      <td>0.0</td>\n",
       "      <td>0.0</td>\n",
       "      <td>0.0</td>\n",
       "      <td>0.0</td>\n",
       "      <td>0.0</td>\n",
       "      <td>0.0</td>\n",
       "      <td>0.0</td>\n",
       "      <td>...</td>\n",
       "      <td>0.0</td>\n",
       "      <td>3.0</td>\n",
       "      <td>0.0</td>\n",
       "      <td>0.0</td>\n",
       "      <td>0.0</td>\n",
       "      <td>0.0</td>\n",
       "      <td>0.0</td>\n",
       "      <td>0.0</td>\n",
       "      <td>0.0</td>\n",
       "      <td>0.0</td>\n",
       "    </tr>\n",
       "    <tr>\n",
       "      <th>3991</th>\n",
       "      <td>naive.t</td>\n",
       "      <td>0.0</td>\n",
       "      <td>0.0</td>\n",
       "      <td>0.0</td>\n",
       "      <td>0.0</td>\n",
       "      <td>0.0</td>\n",
       "      <td>0.0</td>\n",
       "      <td>0.0</td>\n",
       "      <td>0.0</td>\n",
       "      <td>0.0</td>\n",
       "      <td>...</td>\n",
       "      <td>0.0</td>\n",
       "      <td>2.0</td>\n",
       "      <td>0.0</td>\n",
       "      <td>0.0</td>\n",
       "      <td>0.0</td>\n",
       "      <td>0.0</td>\n",
       "      <td>0.0</td>\n",
       "      <td>0.0</td>\n",
       "      <td>0.0</td>\n",
       "      <td>0.0</td>\n",
       "    </tr>\n",
       "    <tr>\n",
       "      <th>3992</th>\n",
       "      <td>naive.t</td>\n",
       "      <td>0.0</td>\n",
       "      <td>0.0</td>\n",
       "      <td>0.0</td>\n",
       "      <td>0.0</td>\n",
       "      <td>0.0</td>\n",
       "      <td>0.0</td>\n",
       "      <td>0.0</td>\n",
       "      <td>0.0</td>\n",
       "      <td>1.0</td>\n",
       "      <td>...</td>\n",
       "      <td>0.0</td>\n",
       "      <td>2.0</td>\n",
       "      <td>0.0</td>\n",
       "      <td>0.0</td>\n",
       "      <td>0.0</td>\n",
       "      <td>0.0</td>\n",
       "      <td>0.0</td>\n",
       "      <td>0.0</td>\n",
       "      <td>0.0</td>\n",
       "      <td>0.0</td>\n",
       "    </tr>\n",
       "    <tr>\n",
       "      <th>3993</th>\n",
       "      <td>naive.t</td>\n",
       "      <td>0.0</td>\n",
       "      <td>0.0</td>\n",
       "      <td>0.0</td>\n",
       "      <td>0.0</td>\n",
       "      <td>0.0</td>\n",
       "      <td>0.0</td>\n",
       "      <td>0.0</td>\n",
       "      <td>0.0</td>\n",
       "      <td>0.0</td>\n",
       "      <td>...</td>\n",
       "      <td>0.0</td>\n",
       "      <td>2.0</td>\n",
       "      <td>0.0</td>\n",
       "      <td>0.0</td>\n",
       "      <td>0.0</td>\n",
       "      <td>0.0</td>\n",
       "      <td>0.0</td>\n",
       "      <td>0.0</td>\n",
       "      <td>1.0</td>\n",
       "      <td>0.0</td>\n",
       "    </tr>\n",
       "  </tbody>\n",
       "</table>\n",
       "<p>3994 rows × 15717 columns</p>\n",
       "</div>"
      ],
      "text/plain": [
       "         cell  ENSG00000237683  Unknown  LINC01409  LINC00115  NOC2L  KLHL17  \\\n",
       "0     b.cells              0.0      1.0        0.0        0.0    0.0     0.0   \n",
       "1     b.cells              0.0      0.0        0.0        0.0    0.0     0.0   \n",
       "2     b.cells              0.0      0.0        0.0        0.0    0.0     0.0   \n",
       "3     b.cells              0.0      0.0        0.0        0.0    0.0     0.0   \n",
       "4     b.cells              0.0      0.0        0.0        0.0    0.0     0.0   \n",
       "...       ...              ...      ...        ...        ...    ...     ...   \n",
       "3989  naive.t              0.0      0.0        0.0        0.0    0.0     0.0   \n",
       "3990  naive.t              0.0      0.0        0.0        0.0    0.0     0.0   \n",
       "3991  naive.t              0.0      0.0        0.0        0.0    0.0     0.0   \n",
       "3992  naive.t              0.0      0.0        0.0        0.0    0.0     0.0   \n",
       "3993  naive.t              0.0      0.0        0.0        0.0    0.0     0.0   \n",
       "\n",
       "      PLEKHN1  HES4  ISG15  ...  MT-ND6  MT-CYB  ENSG00000215750  \\\n",
       "0         0.0   0.0    0.0  ...     0.0     2.0              0.0   \n",
       "1         0.0   0.0    0.0  ...     0.0     1.0              0.0   \n",
       "2         0.0   0.0    0.0  ...     0.0     3.0              0.0   \n",
       "3         0.0   0.0    0.0  ...     0.0     9.0              0.0   \n",
       "4         0.0   0.0    0.0  ...     0.0     3.0              0.0   \n",
       "...       ...   ...    ...  ...     ...     ...              ...   \n",
       "3989      0.0   0.0    0.0  ...     0.0     2.0              0.0   \n",
       "3990      0.0   0.0    0.0  ...     0.0     3.0              0.0   \n",
       "3991      0.0   0.0    0.0  ...     0.0     2.0              0.0   \n",
       "3992      0.0   0.0    1.0  ...     0.0     2.0              0.0   \n",
       "3993      0.0   0.0    0.0  ...     0.0     2.0              0.0   \n",
       "\n",
       "      ENSG00000215781  ENSG00000220023  ENSG00000212884  ENSG00000215615  \\\n",
       "0                 0.0              0.0              0.0              0.0   \n",
       "1                 0.0              0.0              0.0              0.0   \n",
       "2                 0.0              0.0              0.0              0.0   \n",
       "3                 0.0              0.0              0.0              0.0   \n",
       "4                 0.0              0.0              0.0              0.0   \n",
       "...               ...              ...              ...              ...   \n",
       "3989              0.0              0.0              0.0              0.0   \n",
       "3990              0.0              0.0              0.0              0.0   \n",
       "3991              0.0              0.0              0.0              0.0   \n",
       "3992              0.0              0.0              0.0              0.0   \n",
       "3993              0.0              0.0              0.0              0.0   \n",
       "\n",
       "      ENSG00000215764  ENSG00000215700  ENSG00000215699  \n",
       "0                 0.0              0.0              0.0  \n",
       "1                 0.0              0.0              0.0  \n",
       "2                 0.0              0.0              0.0  \n",
       "3                 0.0              0.0              0.0  \n",
       "4                 0.0              0.0              0.0  \n",
       "...               ...              ...              ...  \n",
       "3989              0.0              0.0              0.0  \n",
       "3990              0.0              0.0              0.0  \n",
       "3991              0.0              0.0              0.0  \n",
       "3992              0.0              0.0              0.0  \n",
       "3993              0.0              1.0              0.0  \n",
       "\n",
       "[3994 rows x 15717 columns]"
      ]
     },
     "execution_count": 2,
     "metadata": {},
     "output_type": "execute_result"
    }
   ],
   "source": [
    "import pandas as pd\n",
    "import scanpy as sc\n",
    "\n",
    "df = pd.read_csv(\"\")\n",
    "df"
   ]
  },
  {
   "cell_type": "markdown",
   "id": "b58ca5cc",
   "metadata": {},
   "source": [
    "### anndata"
   ]
  },
  {
   "cell_type": "code",
   "execution_count": null,
   "id": "21fffc8e",
   "metadata": {},
   "outputs": [],
   "source": [
    "import scanpy as sc\n",
    "\n",
    "adata = sc.read_h5ad(\"\")\n",
    "adata"
   ]
  },
  {
   "cell_type": "markdown",
   "id": "22f91d56",
   "metadata": {},
   "source": [
    "## execution - stLENS"
   ]
  },
  {
   "cell_type": "code",
   "execution_count": 3,
   "id": "2a900549",
   "metadata": {},
   "outputs": [
    {
     "name": "stderr",
     "output_type": "stream",
     "text": [
      "/home/khyeonmin/micromamba/envs/scLENS-py/lib/python3.12/site-packages/tqdm/auto.py:21: TqdmWarning: IProgress not found. Please update jupyter and ipywidgets. See https://ipywidgets.readthedocs.io/en/stable/user_install.html\n",
      "  from .autonotebook import tqdm as notebook_tqdm\n"
     ]
    }
   ],
   "source": [
    "from stLENS import stLENS as stlens"
   ]
  },
  {
   "cell_type": "markdown",
   "id": "43c32963",
   "metadata": {},
   "source": [
    "### directory setting"
   ]
  },
  {
   "cell_type": "code",
   "execution_count": 4,
   "id": "8411a00e",
   "metadata": {},
   "outputs": [],
   "source": [
    "import os\n",
    "import shutil\n",
    "\n",
    "file_name = \"test_stlens\"\n",
    "\n",
    "directory = f\"./output/{file_name}\"\n",
    "stlens.directory = directory"
   ]
  },
  {
   "cell_type": "markdown",
   "id": "207dc775",
   "metadata": {},
   "source": [
    "In the preprocess stage, if filter is set to False, filtering is performed using Scanpy."
   ]
  },
  {
   "cell_type": "code",
   "execution_count": null,
   "id": "df5051a8",
   "metadata": {},
   "outputs": [],
   "source": [
    "# import scanpy as sc\n",
    "\n",
    "# adata.var['mt'] = adata.var_names.str.startswith('MT-')\n",
    "# sc.pp.calculate_qc_metrics(adata, qc_vars=['mt'], percent_top=None, log1p=True, inplace=False)\n",
    "\n",
    "# sc.pp.filter_cells(adata, min_genes=200)\n",
    "# sc.pp.filter_genes(adata, min_cells=15)"
   ]
  },
  {
   "cell_type": "markdown",
   "id": "0c1bac55",
   "metadata": {},
   "source": [
    "select \"gpu\" or \"cpu\" for device"
   ]
  },
  {
   "cell_type": "code",
   "execution_count": 5,
   "id": "f4b63f40",
   "metadata": {},
   "outputs": [],
   "source": [
    "stlens.device = \"gpu\""
   ]
  },
  {
   "cell_type": "code",
   "execution_count": 6,
   "id": "7709c3e3",
   "metadata": {},
   "outputs": [
    {
     "name": "stdout",
     "output_type": "stream",
     "text": [
      "After filtering >> shape: (30000, 14499)\n",
      "plotting the result of preprocessing\n"
     ]
    },
    {
     "data": {
      "image/png": "[encoded data removed]",
      "text/plain": [
       "<Figure size 1000x500 with 2 Axes>"
      ]
     },
     "metadata": {},
     "output_type": "display_data"
    },
    {
     "data": {
      "image/png": "[encoded data removed]",
      "text/plain": [
       "<Figure size 1000x500 with 2 Axes>"
      ]
     },
     "metadata": {},
     "output_type": "display_data"
    }
   ],
   "source": [
    "stlens.preprocess(adata, filter=True, plot=True)"
   ]
  },
  {
   "cell_type": "code",
   "execution_count": 7,
   "id": "35ab4dd0",
   "metadata": {},
   "outputs": [
    {
     "name": "stdout",
     "output_type": "stream",
     "text": [
      "sparsity_th: 0.03410385059438219\n",
      "Min(corr): 0.051640015095472336, sparsity: 0.999\n",
      "Min(corr): 0.04501298815011978, sparsity: 0.998\n",
      "Min(corr): 0.04128574952483177, sparsity: 0.997\n",
      "Min(corr): 0.03912224620580673, sparsity: 0.996\n",
      "Min(corr): 0.03796440362930298, sparsity: 0.995\n",
      "Min(corr): 0.03651469573378563, sparsity: 0.994\n",
      "Min(corr): 0.03660586103796959, sparsity: 0.993\n",
      "Min(corr): 0.035384468734264374, sparsity: 0.992\n",
      "Min(corr): 0.034980401396751404, sparsity: 0.991\n",
      "Min(corr): 0.034427154809236526, sparsity: 0.99\n",
      "Min(corr): 0.03394704684615135, sparsity: 0.989\n",
      "Min(corr): 0.033570900559425354, sparsity: 0.988\n",
      "Min(corr): 0.033624809235334396, sparsity: 0.987\n",
      "Min(corr): 0.03262510895729065, sparsity: 0.986\n",
      "Min(corr): 0.03282243758440018, sparsity: 0.985\n",
      "Max interactions exceeded!\n",
      "lambda_c: 3.4126143\n",
      "Number of signal components: 1171\n"
     ]
    },
    {
     "name": "stderr",
     "output_type": "stream",
     "text": [
      "100%|██████████| 20/20 [07:09<00:00, 21.48s/it]\n"
     ]
    },
    {
     "data": {
      "text/plain": [
       "222"
      ]
     },
     "execution_count": 7,
     "metadata": {},
     "output_type": "execute_result"
    }
   ],
   "source": [
    "num = stlens.find_optimal_pc(plot_mp=False)\n",
    "num"
   ]
  },
  {
   "cell_type": "code",
   "execution_count": null,
   "id": "bc2600da",
   "metadata": {},
   "outputs": [],
   "source": [
    "stlens.calc_pca()"
   ]
  },
  {
   "cell_type": "code",
   "execution_count": null,
   "id": "40466cd3",
   "metadata": {},
   "outputs": [],
   "source": [
    "stlens.plot_robust_score()"
   ]
  }
 ],
 "metadata": {
  "kernelspec": {
   "display_name": "scLENS-py",
   "language": "python",
   "name": "python3"
  },
  "language_info": {
   "codemirror_mode": {
    "name": "ipython",
    "version": 3
   },
   "file_extension": ".py",
   "mimetype": "text/x-python",
   "name": "python",
   "nbconvert_exporter": "python",
   "pygments_lexer": "ipython3",
   "version": "3.12.10"
  }
 },
 "nbformat": 4,
 "nbformat_minor": 5
}
