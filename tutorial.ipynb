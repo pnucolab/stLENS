{
 "cells": [
  {
   "cell_type": "code",
   "execution_count": null,
   "id": "868ce010",
   "metadata": {},
   "outputs": [],
   "source": [
    "from src import scLENS_py\n",
    "sclens = scLENS_py.scLENS_py()"
   ]
  },
  {
   "cell_type": "markdown",
   "id": "2485b109",
   "metadata": {},
   "source": [
    "## data"
   ]
  },
  {
   "cell_type": "markdown",
   "id": "86968f7c",
   "metadata": {},
   "source": [
    "### csv file"
   ]
  },
  {
   "cell_type": "code",
   "execution_count": null,
   "id": "6b594c11",
   "metadata": {},
   "outputs": [],
   "source": [
    "import pandas as pd\n",
    "import scanpy as sc\n",
    "\n",
    "df = pd.read_csv('')\n",
    "df"
   ]
  },
  {
   "cell_type": "code",
   "execution_count": null,
   "id": "ad783213",
   "metadata": {},
   "outputs": [],
   "source": [
    "# 세포 정보 추출 (cell 열)\n",
    "obs = pd.DataFrame(df['cell']) \n",
    "\n",
    "# 유전자 발현 데이터 추출 \n",
    "X = df.iloc[:, 1:].values \n",
    "\n",
    "# 유전자 메타데이터 생성 \n",
    "var = pd.DataFrame(df.columns[1:])\n",
    "var.columns = ['gene'] \n",
    "\n",
    "# AnnData 객체 생성\n",
    "adata = sc.AnnData(X, obs=obs, var=var)"
   ]
  },
  {
   "cell_type": "markdown",
   "id": "b58ca5cc",
   "metadata": {},
   "source": [
    "### anndata"
   ]
  },
  {
   "cell_type": "code",
   "execution_count": null,
   "id": "1e952389",
   "metadata": {},
   "outputs": [],
   "source": [
    "import scanpy as sc\n",
    "adata = sc.read_h5ad(\"\")"
   ]
  },
  {
   "cell_type": "code",
   "execution_count": null,
   "id": "004d4150",
   "metadata": {},
   "outputs": [],
   "source": [
    "adata.layers[\"counts\"] = adata.X.copy()"
   ]
  },
  {
   "cell_type": "markdown",
   "id": "cfcc0139",
   "metadata": {},
   "source": [
    "## directory setting"
   ]
  },
  {
   "cell_type": "code",
   "execution_count": null,
   "id": "00690a16",
   "metadata": {},
   "outputs": [],
   "source": [
    "import os\n",
    "import shutil\n",
    "\n",
    "file_name = \"\"\n",
    "\n",
    "directory = \"./output/{file_name}\"\n",
    "sclens.directory = directory"
   ]
  },
  {
   "cell_type": "markdown",
   "id": "22f91d56",
   "metadata": {},
   "source": [
    "## execution"
   ]
  },
  {
   "cell_type": "code",
   "execution_count": null,
   "id": "d96883b1",
   "metadata": {},
   "outputs": [],
   "source": [
    "%%time\n",
    "sclens.preprocess(adata, filter=False, plot=False)"
   ]
  },
  {
   "cell_type": "code",
   "execution_count": null,
   "id": "2021ecf6",
   "metadata": {},
   "outputs": [],
   "source": [
    "%%time\n",
    "sclens.fit_transform(device = 'gpu', plot_mp = False)"
   ]
  },
  {
   "cell_type": "code",
   "execution_count": null,
   "id": "7cc37b32",
   "metadata": {},
   "outputs": [],
   "source": [
    "sclens.plot_robust_score()"
   ]
  }
 ],
 "metadata": {
  "language_info": {
   "name": "python"
  }
 },
 "nbformat": 4,
 "nbformat_minor": 5
}
