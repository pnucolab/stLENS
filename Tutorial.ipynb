{
 "cells": [
  {
   "cell_type": "code",
   "execution_count": 1,
   "metadata": {},
   "outputs": [
    {
     "name": "stderr",
     "output_type": "stream",
     "text": [
      "/home/khyeonmin/micromamba/envs/whatshap_env/lib/python3.10/site-packages/tqdm/auto.py:21: TqdmWarning: IProgress not found. Please update jupyter and ipywidgets. See https://ipywidgets.readthedocs.io/en/stable/user_install.html\n",
      "  from .autonotebook import tqdm as notebook_tqdm\n"
     ]
    }
   ],
   "source": [
    "from scLENS2 import scLENS2\n",
    "import pandas as pd\n",
    "import cupy\n",
    "import scanpy as sc"
   ]
  },
  {
   "cell_type": "code",
   "execution_count": 2,
   "metadata": {},
   "outputs": [
    {
     "data": {
      "text/html": [
       "<div>\n",
       "<style scoped>\n",
       "    .dataframe tbody tr th:only-of-type {\n",
       "        vertical-align: middle;\n",
       "    }\n",
       "\n",
       "    .dataframe tbody tr th {\n",
       "        vertical-align: top;\n",
       "    }\n",
       "\n",
       "    .dataframe thead th {\n",
       "        text-align: right;\n",
       "    }\n",
       "</style>\n",
       "<table border=\"1\" class=\"dataframe\">\n",
       "  <thead>\n",
       "    <tr style=\"text-align: right;\">\n",
       "      <th></th>\n",
       "      <th>cell</th>\n",
       "      <th>ENSG00000237683</th>\n",
       "      <th>Unknown</th>\n",
       "      <th>LINC01409</th>\n",
       "      <th>LINC00115</th>\n",
       "      <th>NOC2L</th>\n",
       "      <th>KLHL17</th>\n",
       "      <th>PLEKHN1</th>\n",
       "      <th>HES4</th>\n",
       "      <th>ISG15</th>\n",
       "      <th>...</th>\n",
       "      <th>MT-ND6</th>\n",
       "      <th>MT-CYB</th>\n",
       "      <th>ENSG00000215750</th>\n",
       "      <th>ENSG00000215781</th>\n",
       "      <th>ENSG00000220023</th>\n",
       "      <th>ENSG00000212884</th>\n",
       "      <th>ENSG00000215615</th>\n",
       "      <th>ENSG00000215764</th>\n",
       "      <th>ENSG00000215700</th>\n",
       "      <th>ENSG00000215699</th>\n",
       "    </tr>\n",
       "  </thead>\n",
       "  <tbody>\n",
       "    <tr>\n",
       "      <th>0</th>\n",
       "      <td>b.cells</td>\n",
       "      <td>0.0</td>\n",
       "      <td>1.0</td>\n",
       "      <td>0.0</td>\n",
       "      <td>0.0</td>\n",
       "      <td>0.0</td>\n",
       "      <td>0.0</td>\n",
       "      <td>0.0</td>\n",
       "      <td>0.0</td>\n",
       "      <td>0.0</td>\n",
       "      <td>...</td>\n",
       "      <td>0.0</td>\n",
       "      <td>2.0</td>\n",
       "      <td>0.0</td>\n",
       "      <td>0.0</td>\n",
       "      <td>0.0</td>\n",
       "      <td>0.0</td>\n",
       "      <td>0.0</td>\n",
       "      <td>0.0</td>\n",
       "      <td>0.0</td>\n",
       "      <td>0.0</td>\n",
       "    </tr>\n",
       "    <tr>\n",
       "      <th>1</th>\n",
       "      <td>b.cells</td>\n",
       "      <td>0.0</td>\n",
       "      <td>0.0</td>\n",
       "      <td>0.0</td>\n",
       "      <td>0.0</td>\n",
       "      <td>0.0</td>\n",
       "      <td>0.0</td>\n",
       "      <td>0.0</td>\n",
       "      <td>0.0</td>\n",
       "      <td>0.0</td>\n",
       "      <td>...</td>\n",
       "      <td>0.0</td>\n",
       "      <td>1.0</td>\n",
       "      <td>0.0</td>\n",
       "      <td>0.0</td>\n",
       "      <td>0.0</td>\n",
       "      <td>0.0</td>\n",
       "      <td>0.0</td>\n",
       "      <td>0.0</td>\n",
       "      <td>0.0</td>\n",
       "      <td>0.0</td>\n",
       "    </tr>\n",
       "    <tr>\n",
       "      <th>2</th>\n",
       "      <td>b.cells</td>\n",
       "      <td>0.0</td>\n",
       "      <td>0.0</td>\n",
       "      <td>0.0</td>\n",
       "      <td>0.0</td>\n",
       "      <td>0.0</td>\n",
       "      <td>0.0</td>\n",
       "      <td>0.0</td>\n",
       "      <td>0.0</td>\n",
       "      <td>0.0</td>\n",
       "      <td>...</td>\n",
       "      <td>0.0</td>\n",
       "      <td>3.0</td>\n",
       "      <td>0.0</td>\n",
       "      <td>0.0</td>\n",
       "      <td>0.0</td>\n",
       "      <td>0.0</td>\n",
       "      <td>0.0</td>\n",
       "      <td>0.0</td>\n",
       "      <td>0.0</td>\n",
       "      <td>0.0</td>\n",
       "    </tr>\n",
       "    <tr>\n",
       "      <th>3</th>\n",
       "      <td>b.cells</td>\n",
       "      <td>0.0</td>\n",
       "      <td>0.0</td>\n",
       "      <td>0.0</td>\n",
       "      <td>0.0</td>\n",
       "      <td>0.0</td>\n",
       "      <td>0.0</td>\n",
       "      <td>0.0</td>\n",
       "      <td>0.0</td>\n",
       "      <td>0.0</td>\n",
       "      <td>...</td>\n",
       "      <td>0.0</td>\n",
       "      <td>9.0</td>\n",
       "      <td>0.0</td>\n",
       "      <td>0.0</td>\n",
       "      <td>0.0</td>\n",
       "      <td>0.0</td>\n",
       "      <td>0.0</td>\n",
       "      <td>0.0</td>\n",
       "      <td>0.0</td>\n",
       "      <td>0.0</td>\n",
       "    </tr>\n",
       "    <tr>\n",
       "      <th>4</th>\n",
       "      <td>b.cells</td>\n",
       "      <td>0.0</td>\n",
       "      <td>0.0</td>\n",
       "      <td>0.0</td>\n",
       "      <td>0.0</td>\n",
       "      <td>0.0</td>\n",
       "      <td>0.0</td>\n",
       "      <td>0.0</td>\n",
       "      <td>0.0</td>\n",
       "      <td>0.0</td>\n",
       "      <td>...</td>\n",
       "      <td>0.0</td>\n",
       "      <td>3.0</td>\n",
       "      <td>0.0</td>\n",
       "      <td>0.0</td>\n",
       "      <td>0.0</td>\n",
       "      <td>0.0</td>\n",
       "      <td>0.0</td>\n",
       "      <td>0.0</td>\n",
       "      <td>0.0</td>\n",
       "      <td>0.0</td>\n",
       "    </tr>\n",
       "    <tr>\n",
       "      <th>...</th>\n",
       "      <td>...</td>\n",
       "      <td>...</td>\n",
       "      <td>...</td>\n",
       "      <td>...</td>\n",
       "      <td>...</td>\n",
       "      <td>...</td>\n",
       "      <td>...</td>\n",
       "      <td>...</td>\n",
       "      <td>...</td>\n",
       "      <td>...</td>\n",
       "      <td>...</td>\n",
       "      <td>...</td>\n",
       "      <td>...</td>\n",
       "      <td>...</td>\n",
       "      <td>...</td>\n",
       "      <td>...</td>\n",
       "      <td>...</td>\n",
       "      <td>...</td>\n",
       "      <td>...</td>\n",
       "      <td>...</td>\n",
       "      <td>...</td>\n",
       "    </tr>\n",
       "    <tr>\n",
       "      <th>3989</th>\n",
       "      <td>naive.t</td>\n",
       "      <td>0.0</td>\n",
       "      <td>0.0</td>\n",
       "      <td>0.0</td>\n",
       "      <td>0.0</td>\n",
       "      <td>0.0</td>\n",
       "      <td>0.0</td>\n",
       "      <td>0.0</td>\n",
       "      <td>0.0</td>\n",
       "      <td>0.0</td>\n",
       "      <td>...</td>\n",
       "      <td>0.0</td>\n",
       "      <td>2.0</td>\n",
       "      <td>0.0</td>\n",
       "      <td>0.0</td>\n",
       "      <td>0.0</td>\n",
       "      <td>0.0</td>\n",
       "      <td>0.0</td>\n",
       "      <td>0.0</td>\n",
       "      <td>0.0</td>\n",
       "      <td>0.0</td>\n",
       "    </tr>\n",
       "    <tr>\n",
       "      <th>3990</th>\n",
       "      <td>naive.t</td>\n",
       "      <td>0.0</td>\n",
       "      <td>0.0</td>\n",
       "      <td>0.0</td>\n",
       "      <td>0.0</td>\n",
       "      <td>0.0</td>\n",
       "      <td>0.0</td>\n",
       "      <td>0.0</td>\n",
       "      <td>0.0</td>\n",
       "      <td>0.0</td>\n",
       "      <td>...</td>\n",
       "      <td>0.0</td>\n",
       "      <td>3.0</td>\n",
       "      <td>0.0</td>\n",
       "      <td>0.0</td>\n",
       "      <td>0.0</td>\n",
       "      <td>0.0</td>\n",
       "      <td>0.0</td>\n",
       "      <td>0.0</td>\n",
       "      <td>0.0</td>\n",
       "      <td>0.0</td>\n",
       "    </tr>\n",
       "    <tr>\n",
       "      <th>3991</th>\n",
       "      <td>naive.t</td>\n",
       "      <td>0.0</td>\n",
       "      <td>0.0</td>\n",
       "      <td>0.0</td>\n",
       "      <td>0.0</td>\n",
       "      <td>0.0</td>\n",
       "      <td>0.0</td>\n",
       "      <td>0.0</td>\n",
       "      <td>0.0</td>\n",
       "      <td>0.0</td>\n",
       "      <td>...</td>\n",
       "      <td>0.0</td>\n",
       "      <td>2.0</td>\n",
       "      <td>0.0</td>\n",
       "      <td>0.0</td>\n",
       "      <td>0.0</td>\n",
       "      <td>0.0</td>\n",
       "      <td>0.0</td>\n",
       "      <td>0.0</td>\n",
       "      <td>0.0</td>\n",
       "      <td>0.0</td>\n",
       "    </tr>\n",
       "    <tr>\n",
       "      <th>3992</th>\n",
       "      <td>naive.t</td>\n",
       "      <td>0.0</td>\n",
       "      <td>0.0</td>\n",
       "      <td>0.0</td>\n",
       "      <td>0.0</td>\n",
       "      <td>0.0</td>\n",
       "      <td>0.0</td>\n",
       "      <td>0.0</td>\n",
       "      <td>0.0</td>\n",
       "      <td>1.0</td>\n",
       "      <td>...</td>\n",
       "      <td>0.0</td>\n",
       "      <td>2.0</td>\n",
       "      <td>0.0</td>\n",
       "      <td>0.0</td>\n",
       "      <td>0.0</td>\n",
       "      <td>0.0</td>\n",
       "      <td>0.0</td>\n",
       "      <td>0.0</td>\n",
       "      <td>0.0</td>\n",
       "      <td>0.0</td>\n",
       "    </tr>\n",
       "    <tr>\n",
       "      <th>3993</th>\n",
       "      <td>naive.t</td>\n",
       "      <td>0.0</td>\n",
       "      <td>0.0</td>\n",
       "      <td>0.0</td>\n",
       "      <td>0.0</td>\n",
       "      <td>0.0</td>\n",
       "      <td>0.0</td>\n",
       "      <td>0.0</td>\n",
       "      <td>0.0</td>\n",
       "      <td>0.0</td>\n",
       "      <td>...</td>\n",
       "      <td>0.0</td>\n",
       "      <td>2.0</td>\n",
       "      <td>0.0</td>\n",
       "      <td>0.0</td>\n",
       "      <td>0.0</td>\n",
       "      <td>0.0</td>\n",
       "      <td>0.0</td>\n",
       "      <td>0.0</td>\n",
       "      <td>1.0</td>\n",
       "      <td>0.0</td>\n",
       "    </tr>\n",
       "  </tbody>\n",
       "</table>\n",
       "<p>3994 rows × 15717 columns</p>\n",
       "</div>"
      ],
      "text/plain": [
       "         cell  ENSG00000237683  Unknown  LINC01409  LINC00115  NOC2L  KLHL17  \\\n",
       "0     b.cells              0.0      1.0        0.0        0.0    0.0     0.0   \n",
       "1     b.cells              0.0      0.0        0.0        0.0    0.0     0.0   \n",
       "2     b.cells              0.0      0.0        0.0        0.0    0.0     0.0   \n",
       "3     b.cells              0.0      0.0        0.0        0.0    0.0     0.0   \n",
       "4     b.cells              0.0      0.0        0.0        0.0    0.0     0.0   \n",
       "...       ...              ...      ...        ...        ...    ...     ...   \n",
       "3989  naive.t              0.0      0.0        0.0        0.0    0.0     0.0   \n",
       "3990  naive.t              0.0      0.0        0.0        0.0    0.0     0.0   \n",
       "3991  naive.t              0.0      0.0        0.0        0.0    0.0     0.0   \n",
       "3992  naive.t              0.0      0.0        0.0        0.0    0.0     0.0   \n",
       "3993  naive.t              0.0      0.0        0.0        0.0    0.0     0.0   \n",
       "\n",
       "      PLEKHN1  HES4  ISG15  ...  MT-ND6  MT-CYB  ENSG00000215750  \\\n",
       "0         0.0   0.0    0.0  ...     0.0     2.0              0.0   \n",
       "1         0.0   0.0    0.0  ...     0.0     1.0              0.0   \n",
       "2         0.0   0.0    0.0  ...     0.0     3.0              0.0   \n",
       "3         0.0   0.0    0.0  ...     0.0     9.0              0.0   \n",
       "4         0.0   0.0    0.0  ...     0.0     3.0              0.0   \n",
       "...       ...   ...    ...  ...     ...     ...              ...   \n",
       "3989      0.0   0.0    0.0  ...     0.0     2.0              0.0   \n",
       "3990      0.0   0.0    0.0  ...     0.0     3.0              0.0   \n",
       "3991      0.0   0.0    0.0  ...     0.0     2.0              0.0   \n",
       "3992      0.0   0.0    1.0  ...     0.0     2.0              0.0   \n",
       "3993      0.0   0.0    0.0  ...     0.0     2.0              0.0   \n",
       "\n",
       "      ENSG00000215781  ENSG00000220023  ENSG00000212884  ENSG00000215615  \\\n",
       "0                 0.0              0.0              0.0              0.0   \n",
       "1                 0.0              0.0              0.0              0.0   \n",
       "2                 0.0              0.0              0.0              0.0   \n",
       "3                 0.0              0.0              0.0              0.0   \n",
       "4                 0.0              0.0              0.0              0.0   \n",
       "...               ...              ...              ...              ...   \n",
       "3989              0.0              0.0              0.0              0.0   \n",
       "3990              0.0              0.0              0.0              0.0   \n",
       "3991              0.0              0.0              0.0              0.0   \n",
       "3992              0.0              0.0              0.0              0.0   \n",
       "3993              0.0              0.0              0.0              0.0   \n",
       "\n",
       "      ENSG00000215764  ENSG00000215700  ENSG00000215699  \n",
       "0                 0.0              0.0              0.0  \n",
       "1                 0.0              0.0              0.0  \n",
       "2                 0.0              0.0              0.0  \n",
       "3                 0.0              0.0              0.0  \n",
       "4                 0.0              0.0              0.0  \n",
       "...               ...              ...              ...  \n",
       "3989              0.0              0.0              0.0  \n",
       "3990              0.0              0.0              0.0  \n",
       "3991              0.0              0.0              0.0  \n",
       "3992              0.0              0.0              0.0  \n",
       "3993              0.0              1.0              0.0  \n",
       "\n",
       "[3994 rows x 15717 columns]"
      ]
     },
     "execution_count": 2,
     "metadata": {},
     "output_type": "execute_result"
    }
   ],
   "source": [
    "df = pd.read_csv('./Z8eq.csv')\n",
    "df"
   ]
  },
  {
   "cell_type": "code",
   "execution_count": 3,
   "metadata": {},
   "outputs": [
    {
     "name": "stderr",
     "output_type": "stream",
     "text": [
      "/home/khyeonmin/micromamba/envs/whatshap_env/lib/python3.10/site-packages/anndata/_core/aligned_df.py:68: ImplicitModificationWarning: Transforming to str index.\n",
      "  warnings.warn(\"Transforming to str index.\", ImplicitModificationWarning)\n",
      "/home/khyeonmin/micromamba/envs/whatshap_env/lib/python3.10/site-packages/anndata/_core/aligned_df.py:68: ImplicitModificationWarning: Transforming to str index.\n",
      "  warnings.warn(\"Transforming to str index.\", ImplicitModificationWarning)\n"
     ]
    },
    {
     "data": {
      "text/plain": [
       "AnnData object with n_obs × n_vars = 3994 × 15716\n",
       "    obs: 'cell'\n",
       "    var: 'gene'"
      ]
     },
     "execution_count": 3,
     "metadata": {},
     "output_type": "execute_result"
    }
   ],
   "source": [
    "# 세포 정보 추출 (cell 열)\n",
    "obs = pd.DataFrame(df['cell']) \n",
    "\n",
    "# 유전자 발현 데이터 추출 (두 번째 열부터)\n",
    "X = df.iloc[:, 1:].values \n",
    "\n",
    "# 유전자 메타데이터 생성 (열 이름 사용)\n",
    "var = pd.DataFrame(df.columns[1:])\n",
    "var.columns = ['gene'] \n",
    "\n",
    "# AnnData 객체 생성\n",
    "adata = sc.AnnData(X, obs=obs, var=var)\n",
    "\n",
    "adata"
   ]
  },
  {
   "cell_type": "code",
   "execution_count": 4,
   "metadata": {},
   "outputs": [
    {
     "data": {
      "text/plain": [
       "(3994, 15716)"
      ]
     },
     "execution_count": 4,
     "metadata": {},
     "output_type": "execute_result"
    }
   ],
   "source": [
    "adata.raw = adata.copy()\n",
    "adata.raw = sc.AnnData(adata.X.copy(), obs=adata.obs.copy(), var=adata.var.copy())\n",
    "adata.raw.shape"
   ]
  },
  {
   "cell_type": "code",
   "execution_count": 5,
   "metadata": {},
   "outputs": [],
   "source": [
    "sclens = scLENS2.scLENS2()"
   ]
  },
  {
   "cell_type": "code",
   "execution_count": 6,
   "metadata": {},
   "outputs": [
    {
     "name": "stdout",
     "output_type": "stream",
     "text": [
      "CPU Memory Usage: 2684.34 MB\n",
      "(0.0, 0.0)\n",
      "Removed 0 cells and 6065 genes in QC\n"
     ]
    },
    {
     "name": "stderr",
     "output_type": "stream",
     "text": [
      "/home/khyeonmin/projects/scLENS/scLENS2/scLENS2.py:141: ImplicitModificationWarning: Trying to modify attribute `._uns` of view, initializing view as actual.\n",
      "  data.uns['preprocess_mean_plot'] = fig1\n"
     ]
    },
    {
     "name": "stdout",
     "output_type": "stream",
     "text": [
      "CPU Memory Usage: 4668.21 MB\n",
      "(294.08349609375, 1176.365234375)\n"
     ]
    },
    {
     "data": {
      "image/png": "[encoded data removed]",
      "text/plain": [
       "<Figure size 1000x500 with 2 Axes>"
      ]
     },
     "metadata": {},
     "output_type": "display_data"
    },
    {
     "data": {
      "image/png": "[encoded data removed]",
      "text/plain": [
       "<Figure size 1000x500 with 2 Axes>"
      ]
     },
     "metadata": {},
     "output_type": "display_data"
    }
   ],
   "source": [
    "_, adata = sclens.preprocess(adata, plot = True)"
   ]
  },
  {
   "cell_type": "code",
   "execution_count": 7,
   "metadata": {},
   "outputs": [
    {
     "data": {
      "text/plain": [
       "AnnData object with n_obs × n_vars = 3994 × 9651\n",
       "    obs: 'cell'\n",
       "    var: 'gene'\n",
       "    uns: 'preprocess_mean_plot', 'preprocess_sd_plot'"
      ]
     },
     "execution_count": 7,
     "metadata": {},
     "output_type": "execute_result"
    }
   ],
   "source": [
    "adata"
   ]
  },
  {
   "cell_type": "code",
   "execution_count": 8,
   "metadata": {},
   "outputs": [
    {
     "name": "stdout",
     "output_type": "stream",
     "text": [
      "CPU Memory Usage: 4669.14 MB\n",
      "(0.0, 1176.365234375)\n",
      "gene is more than cell\n",
      "gene is more than cell\n",
      "Max interactions exceeded!\n",
      "Number of signal components: 16\n",
      "L_mp type: <class 'cupy.ndarray'>\n",
      "L_mp shape: (3975,)\n"
     ]
    },
    {
     "data": {
      "image/png": "[encoded data removed]",
      "text/plain": [
       "<Figure size 640x480 with 1 Axes>"
      ]
     },
     "metadata": {},
     "output_type": "display_data"
    },
    {
     "name": "stdout",
     "output_type": "stream",
     "text": [
      "sparsity_th: 0.06001289427295246\n",
      "Min(corr): 0.0941020948422473, sparsity: 0.999, add_ilen: (38546,)\n",
      "Min(corr): 0.07890841474123861, sparsity: 0.998, add_ilen: (77092,)\n",
      "Min(corr): 0.07046961528104065, sparsity: 0.997, add_ilen: (115638,)\n",
      "Min(corr): 0.06575696519992934, sparsity: 0.996, add_ilen: (154184,)\n",
      "Min(corr): 0.06136534489815672, sparsity: 0.995, add_ilen: (192730,)\n",
      "Min(corr): 0.06148114372060905, sparsity: 0.994, add_ilen: (231276,)\n",
      "Min(corr): 0.05907768852011504, sparsity: 0.993, add_ilen: (269822,)\n",
      "Min(corr): 0.05734884696496989, sparsity: 0.992, add_ilen: (308368,)\n",
      "Min(corr): 0.05744761576138111, sparsity: 0.991, add_ilen: (346914,)\n",
      "Min(corr): 0.05579462207308637, sparsity: 0.99, add_ilen: (385460,)\n",
      "Min(corr): 0.05476107348846978, sparsity: 0.989, add_ilen: (424007,)\n"
     ]
    },
    {
     "name": "stderr",
     "output_type": "stream",
     "text": [
      "100%|██████████| 20/20 [00:55<00:00,  2.78s/it]\n"
     ]
    },
    {
     "name": "stdout",
     "output_type": "stream",
     "text": [
      "CPU Memory Usage: 4719.11 MB\n",
      "(659.59375, 3137.72216796875)\n"
     ]
    }
   ],
   "source": [
    "X_transform = sclens.fit_transform(plot_mp=True)"
   ]
  },
  {
   "cell_type": "code",
   "execution_count": 9,
   "metadata": {},
   "outputs": [
    {
     "data": {
      "text/plain": [
       "array([[ 0.04105718, -0.03826169, -0.02644869, ..., -0.14582109,\n",
       "         0.06994112, -0.02711196],\n",
       "       [ 0.02534541, -0.00069116, -0.02015234, ..., -0.13098915,\n",
       "         0.07156501, -0.03700359],\n",
       "       [ 0.00774764,  0.00759813, -0.02913346, ..., -0.13624159,\n",
       "         0.05192215, -0.0357052 ],\n",
       "       ...,\n",
       "       [-0.00412252,  0.00800009,  0.00269003, ...,  0.02358551,\n",
       "        -0.06861508,  0.0384025 ],\n",
       "       [ 0.02841542, -0.01079739,  0.00910996, ...,  0.02328334,\n",
       "        -0.00856293, -0.05428069],\n",
       "       [ 0.01457923,  0.03640545,  0.01290544, ...,  0.03067032,\n",
       "        -0.01833608, -0.08521219]])"
      ]
     },
     "execution_count": 9,
     "metadata": {},
     "output_type": "execute_result"
    }
   ],
   "source": [
    "X_transform"
   ]
  },
  {
   "cell_type": "code",
   "execution_count": 10,
   "metadata": {},
   "outputs": [
    {
     "data": {
      "text/plain": [
       "AnnData object with n_obs × n_vars = 3994 × 9651\n",
       "    obs: 'cell'\n",
       "    var: 'gene'\n",
       "    uns: 'preprocess_mean_plot', 'preprocess_sd_plot'\n",
       "    obsm: 'PCA_scLENS'"
      ]
     },
     "execution_count": 10,
     "metadata": {},
     "output_type": "execute_result"
    }
   ],
   "source": [
    "adata"
   ]
  },
  {
   "cell_type": "code",
   "execution_count": 11,
   "metadata": {},
   "outputs": [
    {
     "data": {
      "image/png": "[encoded data removed]",
      "text/plain": [
       "<Figure size 1000x500 with 1 Axes>"
      ]
     },
     "metadata": {},
     "output_type": "display_data"
    }
   ],
   "source": [
    "sclens.plot_robust_score()"
   ]
  },
  {
   "cell_type": "code",
   "execution_count": 12,
   "metadata": {},
   "outputs": [
    {
     "data": {
      "text/plain": [
       "AnnData object with n_obs × n_vars = 3994 × 9651\n",
       "    obs: 'cell'\n",
       "    var: 'gene'\n",
       "    uns: 'preprocess_mean_plot', 'preprocess_sd_plot', 'robust_score_plot'\n",
       "    obsm: 'PCA_scLENS'"
      ]
     },
     "execution_count": 12,
     "metadata": {},
     "output_type": "execute_result"
    }
   ],
   "source": [
    "adata"
   ]
  },
  {
   "cell_type": "code",
   "execution_count": 13,
   "metadata": {},
   "outputs": [
    {
     "data": {
      "text/plain": [
       "array([[ 0.04105718, -0.03826169, -0.02644869, ..., -0.14582109,\n",
       "         0.06994112, -0.02711196],\n",
       "       [ 0.02534541, -0.00069116, -0.02015234, ..., -0.13098915,\n",
       "         0.07156501, -0.03700359],\n",
       "       [ 0.00774764,  0.00759813, -0.02913346, ..., -0.13624159,\n",
       "         0.05192215, -0.0357052 ],\n",
       "       ...,\n",
       "       [-0.00412252,  0.00800009,  0.00269003, ...,  0.02358551,\n",
       "        -0.06861508,  0.0384025 ],\n",
       "       [ 0.02841542, -0.01079739,  0.00910996, ...,  0.02328334,\n",
       "        -0.00856293, -0.05428069],\n",
       "       [ 0.01457923,  0.03640545,  0.01290544, ...,  0.03067032,\n",
       "        -0.01833608, -0.08521219]])"
      ]
     },
     "execution_count": 13,
     "metadata": {},
     "output_type": "execute_result"
    }
   ],
   "source": [
    "adata.obsm['PCA_scLENS']"
   ]
  },
  {
   "cell_type": "markdown",
   "metadata": {},
   "source": [
    "# clustering"
   ]
  },
  {
   "cell_type": "code",
   "execution_count": 14,
   "metadata": {},
   "outputs": [
    {
     "name": "stderr",
     "output_type": "stream",
     "text": [
      "/home/khyeonmin/micromamba/envs/whatshap_env/lib/python3.10/site-packages/dask/dataframe/__init__.py:49: FutureWarning: \n",
      "Dask dataframe query planning is disabled because dask-expr is not installed.\n",
      "\n",
      "You can install it with `pip install dask[dataframe]` or `conda install dask`.\n",
      "This will raise in a future version.\n",
      "\n",
      "  warnings.warn(msg, FutureWarning)\n",
      "/home/khyeonmin/micromamba/envs/whatshap_env/lib/python3.10/site-packages/numba/np/ufunc/dufunc.py:343: NumbaWarning: \u001b[1mCompilation requested for previously compiled argument types ((uint32,)). This has no effect and perhaps indicates a bug in the calling code (compiling a ufunc more than once for the same signature\u001b[0m\n",
      "  warnings.warn(msg, errors.NumbaWarning)\n",
      "/home/khyeonmin/micromamba/envs/whatshap_env/lib/python3.10/site-packages/numba/np/ufunc/dufunc.py:343: NumbaWarning: \u001b[1mCompilation requested for previously compiled argument types ((uint32,)). This has no effect and perhaps indicates a bug in the calling code (compiling a ufunc more than once for the same signature\u001b[0m\n",
      "  warnings.warn(msg, errors.NumbaWarning)\n",
      "/home/khyeonmin/micromamba/envs/whatshap_env/lib/python3.10/site-packages/numba/np/ufunc/dufunc.py:343: NumbaWarning: \u001b[1mCompilation requested for previously compiled argument types ((uint32,)). This has no effect and perhaps indicates a bug in the calling code (compiling a ufunc more than once for the same signature\u001b[0m\n",
      "  warnings.warn(msg, errors.NumbaWarning)\n"
     ]
    }
   ],
   "source": [
    "import pandas as pd\n",
    "import matplotlib.pyplot as plt\n",
    "import datashader as ds\n",
    "import bokeh\n",
    "import holoviews as hv\n",
    "from skimage import data\n",
    "import colorcet\n",
    "import umap\n",
    "import umap.plot"
   ]
  },
  {
   "cell_type": "code",
   "execution_count": 15,
   "metadata": {},
   "outputs": [
    {
     "name": "stderr",
     "output_type": "stream",
     "text": [
      "/home/khyeonmin/micromamba/envs/whatshap_env/lib/python3.10/site-packages/sklearn/utils/deprecation.py:151: FutureWarning: 'force_all_finite' was renamed to 'ensure_all_finite' in 1.6 and will be removed in 1.8.\n",
      "  warnings.warn(\n"
     ]
    },
    {
     "name": "stdout",
     "output_type": "stream",
     "text": [
      "<class 'numpy.ndarray'>\n"
     ]
    }
   ],
   "source": [
    "# umap은 기본적으로 numpy 배열 사용 필요!!\n",
    "X_transform_np = X_transform.get()\n",
    "\n",
    "print(type(X_transform_np))\n",
    "mapper = umap.UMAP(metric='cosine').fit(X_transform_np)"
   ]
  },
  {
   "cell_type": "code",
   "execution_count": 16,
   "metadata": {},
   "outputs": [],
   "source": [
    "from scLENS2.clustering import find_clusters, chooseR"
   ]
  },
  {
   "cell_type": "code",
   "execution_count": 17,
   "metadata": {},
   "outputs": [
    {
     "name": "stdout",
     "output_type": "stream",
     "text": [
      "[[ 0.04105718 -0.03826169 -0.02644869 ... -0.14582109  0.06994112\n",
      "  -0.02711196]\n",
      " [ 0.02534541 -0.00069116 -0.02015234 ... -0.13098915  0.07156501\n",
      "  -0.03700359]\n",
      " [ 0.00774764  0.00759813 -0.02913346 ... -0.13624159  0.05192215\n",
      "  -0.0357052 ]\n",
      " ...\n",
      " [-0.00412252  0.00800009  0.00269003 ...  0.02358551 -0.06861508\n",
      "   0.0384025 ]\n",
      " [ 0.02841542 -0.01079739  0.00910996 ...  0.02328334 -0.00856293\n",
      "  -0.05428069]\n",
      " [ 0.01457923  0.03640545  0.01290544 ...  0.03067032 -0.01833608\n",
      "  -0.08521219]]\n"
     ]
    }
   ],
   "source": [
    "print(X_transform_np)"
   ]
  },
  {
   "cell_type": "code",
   "execution_count": 18,
   "metadata": {},
   "outputs": [
    {
     "name": "stderr",
     "output_type": "stream",
     "text": [
      "ChooseR:   0%|          | 0/39 [00:00<?, ?it/s]"
     ]
    },
    {
     "name": "stdout",
     "output_type": "stream",
     "text": [
      "GPU is not available, function will be run in CPU\n"
     ]
    },
    {
     "name": "stderr",
     "output_type": "stream",
     "text": [
      "ChooseR:   3%|▎         | 1/39 [00:13<08:45, 13.82s/it]"
     ]
    },
    {
     "name": "stdout",
     "output_type": "stream",
     "text": [
      "GPU is not available, function will be run in CPU\n"
     ]
    },
    {
     "name": "stderr",
     "output_type": "stream",
     "text": [
      "ChooseR:   5%|▌         | 2/39 [00:20<05:53,  9.55s/it]"
     ]
    },
    {
     "name": "stdout",
     "output_type": "stream",
     "text": [
      "GPU is not available, function will be run in CPU\n"
     ]
    },
    {
     "name": "stderr",
     "output_type": "stream",
     "text": [
      "ChooseR:   8%|▊         | 3/39 [00:27<04:57,  8.25s/it]"
     ]
    },
    {
     "name": "stdout",
     "output_type": "stream",
     "text": [
      "GPU is not available, function will be run in CPU\n"
     ]
    },
    {
     "name": "stderr",
     "output_type": "stream",
     "text": [
      "ChooseR:  10%|█         | 4/39 [00:33<04:27,  7.65s/it]"
     ]
    },
    {
     "name": "stdout",
     "output_type": "stream",
     "text": [
      "GPU is not available, function will be run in CPU\n"
     ]
    },
    {
     "name": "stderr",
     "output_type": "stream",
     "text": [
      "ChooseR:  13%|█▎        | 5/39 [00:40<04:06,  7.25s/it]"
     ]
    },
    {
     "name": "stdout",
     "output_type": "stream",
     "text": [
      "GPU is not available, function will be run in CPU\n"
     ]
    },
    {
     "name": "stderr",
     "output_type": "stream",
     "text": [
      "ChooseR:  15%|█▌        | 6/39 [00:47<03:54,  7.12s/it]"
     ]
    },
    {
     "name": "stdout",
     "output_type": "stream",
     "text": [
      "GPU is not available, function will be run in CPU\n"
     ]
    },
    {
     "name": "stderr",
     "output_type": "stream",
     "text": [
      "ChooseR:  18%|█▊        | 7/39 [00:54<03:46,  7.09s/it]"
     ]
    },
    {
     "name": "stdout",
     "output_type": "stream",
     "text": [
      "GPU is not available, function will be run in CPU\n"
     ]
    },
    {
     "name": "stderr",
     "output_type": "stream",
     "text": [
      "ChooseR:  21%|██        | 8/39 [01:01<03:41,  7.14s/it]"
     ]
    },
    {
     "name": "stdout",
     "output_type": "stream",
     "text": [
      "GPU is not available, function will be run in CPU\n"
     ]
    },
    {
     "name": "stderr",
     "output_type": "stream",
     "text": [
      "ChooseR:  23%|██▎       | 9/39 [01:05<03:02,  6.08s/it]"
     ]
    },
    {
     "name": "stdout",
     "output_type": "stream",
     "text": [
      "GPU is not available, function will be run in CPU\n"
     ]
    },
    {
     "name": "stderr",
     "output_type": "stream",
     "text": [
      "ChooseR:  26%|██▌       | 10/39 [01:09<02:39,  5.49s/it]"
     ]
    },
    {
     "name": "stdout",
     "output_type": "stream",
     "text": [
      "GPU is not available, function will be run in CPU\n"
     ]
    },
    {
     "name": "stderr",
     "output_type": "stream",
     "text": [
      "ChooseR:  28%|██▊       | 11/39 [01:13<02:20,  5.00s/it]"
     ]
    },
    {
     "name": "stdout",
     "output_type": "stream",
     "text": [
      "GPU is not available, function will be run in CPU\n"
     ]
    },
    {
     "name": "stderr",
     "output_type": "stream",
     "text": [
      "ChooseR:  31%|███       | 12/39 [01:17<02:04,  4.61s/it]"
     ]
    },
    {
     "name": "stdout",
     "output_type": "stream",
     "text": [
      "GPU is not available, function will be run in CPU\n"
     ]
    },
    {
     "name": "stderr",
     "output_type": "stream",
     "text": [
      "ChooseR:  33%|███▎      | 13/39 [01:21<01:59,  4.60s/it]"
     ]
    },
    {
     "name": "stdout",
     "output_type": "stream",
     "text": [
      "GPU is not available, function will be run in CPU\n"
     ]
    },
    {
     "name": "stderr",
     "output_type": "stream",
     "text": [
      "ChooseR:  36%|███▌      | 14/39 [01:26<01:54,  4.59s/it]"
     ]
    },
    {
     "name": "stdout",
     "output_type": "stream",
     "text": [
      "GPU is not available, function will be run in CPU\n"
     ]
    },
    {
     "name": "stderr",
     "output_type": "stream",
     "text": [
      "ChooseR:  38%|███▊      | 15/39 [01:29<01:40,  4.18s/it]"
     ]
    },
    {
     "name": "stdout",
     "output_type": "stream",
     "text": [
      "GPU is not available, function will be run in CPU\n"
     ]
    },
    {
     "name": "stderr",
     "output_type": "stream",
     "text": [
      "ChooseR:  41%|████      | 16/39 [01:33<01:35,  4.15s/it]"
     ]
    },
    {
     "name": "stdout",
     "output_type": "stream",
     "text": [
      "GPU is not available, function will be run in CPU\n"
     ]
    },
    {
     "name": "stderr",
     "output_type": "stream",
     "text": [
      "ChooseR:  44%|████▎     | 17/39 [01:37<01:29,  4.08s/it]"
     ]
    },
    {
     "name": "stdout",
     "output_type": "stream",
     "text": [
      "GPU is not available, function will be run in CPU\n"
     ]
    },
    {
     "name": "stderr",
     "output_type": "stream",
     "text": [
      "ChooseR:  46%|████▌     | 18/39 [01:41<01:26,  4.13s/it]"
     ]
    },
    {
     "name": "stdout",
     "output_type": "stream",
     "text": [
      "GPU is not available, function will be run in CPU\n"
     ]
    },
    {
     "name": "stderr",
     "output_type": "stream",
     "text": [
      "ChooseR:  49%|████▊     | 19/39 [01:45<01:22,  4.12s/it]"
     ]
    },
    {
     "name": "stdout",
     "output_type": "stream",
     "text": [
      "GPU is not available, function will be run in CPU\n"
     ]
    },
    {
     "name": "stderr",
     "output_type": "stream",
     "text": [
      "ChooseR:  51%|█████▏    | 20/39 [01:49<01:17,  4.10s/it]"
     ]
    },
    {
     "name": "stdout",
     "output_type": "stream",
     "text": [
      "GPU is not available, function will be run in CPU\n"
     ]
    },
    {
     "name": "stderr",
     "output_type": "stream",
     "text": [
      "ChooseR:  54%|█████▍    | 21/39 [01:53<01:11,  3.97s/it]"
     ]
    },
    {
     "name": "stdout",
     "output_type": "stream",
     "text": [
      "GPU is not available, function will be run in CPU\n"
     ]
    },
    {
     "name": "stderr",
     "output_type": "stream",
     "text": [
      "ChooseR:  56%|█████▋    | 22/39 [01:57<01:07,  3.99s/it]"
     ]
    },
    {
     "name": "stdout",
     "output_type": "stream",
     "text": [
      "GPU is not available, function will be run in CPU\n"
     ]
    },
    {
     "name": "stderr",
     "output_type": "stream",
     "text": [
      "ChooseR:  59%|█████▉    | 23/39 [02:00<01:01,  3.83s/it]"
     ]
    },
    {
     "name": "stdout",
     "output_type": "stream",
     "text": [
      "GPU is not available, function will be run in CPU\n"
     ]
    },
    {
     "name": "stderr",
     "output_type": "stream",
     "text": [
      "ChooseR:  62%|██████▏   | 24/39 [02:05<00:58,  3.91s/it]"
     ]
    },
    {
     "name": "stdout",
     "output_type": "stream",
     "text": [
      "GPU is not available, function will be run in CPU\n"
     ]
    },
    {
     "name": "stderr",
     "output_type": "stream",
     "text": [
      "ChooseR:  64%|██████▍   | 25/39 [02:08<00:54,  3.92s/it]"
     ]
    },
    {
     "name": "stdout",
     "output_type": "stream",
     "text": [
      "GPU is not available, function will be run in CPU\n"
     ]
    },
    {
     "name": "stderr",
     "output_type": "stream",
     "text": [
      "ChooseR:  67%|██████▋   | 26/39 [02:13<00:52,  4.06s/it]"
     ]
    },
    {
     "name": "stdout",
     "output_type": "stream",
     "text": [
      "GPU is not available, function will be run in CPU\n"
     ]
    },
    {
     "name": "stderr",
     "output_type": "stream",
     "text": [
      "ChooseR:  69%|██████▉   | 27/39 [02:18<00:50,  4.24s/it]"
     ]
    },
    {
     "name": "stdout",
     "output_type": "stream",
     "text": [
      "GPU is not available, function will be run in CPU\n"
     ]
    },
    {
     "name": "stderr",
     "output_type": "stream",
     "text": [
      "ChooseR:  72%|███████▏  | 28/39 [02:21<00:45,  4.09s/it]"
     ]
    },
    {
     "name": "stdout",
     "output_type": "stream",
     "text": [
      "GPU is not available, function will be run in CPU\n"
     ]
    },
    {
     "name": "stderr",
     "output_type": "stream",
     "text": [
      "ChooseR:  74%|███████▍  | 29/39 [02:25<00:40,  4.03s/it]"
     ]
    },
    {
     "name": "stdout",
     "output_type": "stream",
     "text": [
      "GPU is not available, function will be run in CPU\n"
     ]
    },
    {
     "name": "stderr",
     "output_type": "stream",
     "text": [
      "ChooseR:  77%|███████▋  | 30/39 [02:29<00:34,  3.89s/it]"
     ]
    },
    {
     "name": "stdout",
     "output_type": "stream",
     "text": [
      "GPU is not available, function will be run in CPU\n"
     ]
    },
    {
     "name": "stderr",
     "output_type": "stream",
     "text": [
      "ChooseR:  79%|███████▉  | 31/39 [02:33<00:30,  3.86s/it]"
     ]
    },
    {
     "name": "stdout",
     "output_type": "stream",
     "text": [
      "GPU is not available, function will be run in CPU\n"
     ]
    },
    {
     "name": "stderr",
     "output_type": "stream",
     "text": [
      "ChooseR:  82%|████████▏ | 32/39 [02:36<00:27,  3.89s/it]"
     ]
    },
    {
     "name": "stdout",
     "output_type": "stream",
     "text": [
      "GPU is not available, function will be run in CPU\n"
     ]
    },
    {
     "name": "stderr",
     "output_type": "stream",
     "text": [
      "ChooseR:  85%|████████▍ | 33/39 [02:41<00:23,  3.99s/it]"
     ]
    },
    {
     "name": "stdout",
     "output_type": "stream",
     "text": [
      "GPU is not available, function will be run in CPU\n"
     ]
    },
    {
     "name": "stderr",
     "output_type": "stream",
     "text": [
      "ChooseR:  87%|████████▋ | 34/39 [02:44<00:19,  3.91s/it]"
     ]
    },
    {
     "name": "stdout",
     "output_type": "stream",
     "text": [
      "GPU is not available, function will be run in CPU\n"
     ]
    },
    {
     "name": "stderr",
     "output_type": "stream",
     "text": [
      "ChooseR:  90%|████████▉ | 35/39 [02:48<00:15,  3.86s/it]"
     ]
    },
    {
     "name": "stdout",
     "output_type": "stream",
     "text": [
      "GPU is not available, function will be run in CPU\n"
     ]
    },
    {
     "name": "stderr",
     "output_type": "stream",
     "text": [
      "ChooseR:  92%|█████████▏| 36/39 [02:52<00:11,  3.89s/it]"
     ]
    },
    {
     "name": "stdout",
     "output_type": "stream",
     "text": [
      "GPU is not available, function will be run in CPU\n"
     ]
    },
    {
     "name": "stderr",
     "output_type": "stream",
     "text": [
      "ChooseR:  95%|█████████▍| 37/39 [02:56<00:07,  3.97s/it]"
     ]
    },
    {
     "name": "stdout",
     "output_type": "stream",
     "text": [
      "GPU is not available, function will be run in CPU\n"
     ]
    },
    {
     "name": "stderr",
     "output_type": "stream",
     "text": [
      "ChooseR:  97%|█████████▋| 38/39 [03:00<00:04,  4.04s/it]"
     ]
    },
    {
     "name": "stdout",
     "output_type": "stream",
     "text": [
      "GPU is not available, function will be run in CPU\n"
     ]
    },
    {
     "name": "stderr",
     "output_type": "stream",
     "text": [
      "ChooseR: 100%|██████████| 39/39 [03:05<00:00,  4.74s/it]"
     ]
    },
    {
     "name": "stdout",
     "output_type": "stream",
     "text": [
      "(np.float64(0.45),      res  n_clusters   low_med       med\n",
      "26  1.95          20  0.512250  0.626043\n",
      "38  1.90          19  0.516540  0.825899\n",
      "19  1.85          18  0.584726  0.735391\n",
      "37  1.65          17  0.541261  0.815267\n",
      "32  1.80          16  0.543577  0.786268\n",
      "13  1.75          16  0.660552  0.854796\n",
      "25  1.70          16  0.565998  0.685653\n",
      "31  1.55          15  0.452073  0.795102\n",
      "36  1.40          14  0.535816  0.815748\n",
      "18  1.60          14  0.502775  0.815185\n",
      "24  1.45          14  0.474844  0.738867\n",
      "17  1.35          14  0.614113  0.883963\n",
      "12  1.50          13  0.687050  0.844405\n",
      "30  1.30          13  0.618347  0.847991\n",
      "11  1.25          13  0.580206  0.900128\n",
      "23  1.20          13  0.250019  0.895204\n",
      "10  1.00          12  0.455230  0.945578\n",
      "29  1.05          12  0.688088  0.918256\n",
      "16  1.10          12  0.827811  0.902254\n",
      "35  1.15          12  0.329039  0.935958\n",
      "34  0.90          11  0.738060  0.871975\n",
      "20  0.95          11 -0.454759  0.945955\n",
      "6   0.45          10  0.834636  0.952572\n",
      "8   0.60          10  0.780452  0.976589\n",
      "28  0.80          10  0.825143  0.959636\n",
      "27  0.55          10  0.696777  0.960078\n",
      "21  0.70          10  0.858168  0.963654\n",
      "33  0.65          10  0.889592  0.966043\n",
      "9   0.75          10  0.833810  0.951374\n",
      "15  0.85          10  0.900733  0.946862\n",
      "7   0.50           9  0.789573  0.919494\n",
      "5   0.40           8  0.392774  0.953273\n",
      "2   0.25           7  0.846130  0.990059\n",
      "3   0.30           7  0.923464  0.988468\n",
      "4   0.35           7  0.888757  0.962302\n",
      "0   0.15           6  0.933654  0.987041\n",
      "1   0.20           6  0.752422  0.985585\n",
      "22  0.10           6  0.948988  0.990631\n",
      "14  0.05           5  0.916125  0.994358)\n"
     ]
    },
    {
     "name": "stderr",
     "output_type": "stream",
     "text": [
      "\n"
     ]
    }
   ],
   "source": [
    "resolution = chooseR(X_transform_np, reps=5, n_jobs=-1) \n",
    "print(resolution)"
   ]
  },
  {
   "cell_type": "code",
   "execution_count": 19,
   "metadata": {},
   "outputs": [
    {
     "name": "stdout",
     "output_type": "stream",
     "text": [
      "0.45\n"
     ]
    }
   ],
   "source": [
    "# resolution 찾고 바로 clustering 코드 실행하면 tuple이 아니라 real number이어야 한다는 오류 떠서 추가함\n",
    "if isinstance(resolution, (tuple, list)):\n",
    "    resolution = resolution[0]\n",
    "print(resolution)"
   ]
  },
  {
   "cell_type": "code",
   "execution_count": 36,
   "metadata": {},
   "outputs": [],
   "source": [
    "clustering = find_clusters(X_transform_np, res=resolution)"
   ]
  },
  {
   "cell_type": "code",
   "execution_count": null,
   "metadata": {},
   "outputs": [],
   "source": [
    "umap.plot.points(mapper, labels=clustering)"
   ]
  },
  {
   "cell_type": "markdown",
   "metadata": {},
   "source": [
    "# scanpy와 호환성"
   ]
  },
  {
   "cell_type": "code",
   "execution_count": 22,
   "metadata": {},
   "outputs": [],
   "source": [
    "adata.obsm['PCA_scLENS'] = adata.obsm['PCA_scLENS'].get()\n",
    "sc.pp.neighbors(adata, use_rep='PCA_scLENS')"
   ]
  },
  {
   "cell_type": "code",
   "execution_count": 23,
   "metadata": {},
   "outputs": [
    {
     "data": {
      "text/plain": [
       "AnnData object with n_obs × n_vars = 3994 × 9651\n",
       "    obs: 'cell'\n",
       "    var: 'gene'\n",
       "    uns: 'preprocess_mean_plot', 'preprocess_sd_plot', 'robust_score_plot', 'neighbors'\n",
       "    obsm: 'PCA_scLENS'\n",
       "    obsp: 'distances', 'connectivities'"
      ]
     },
     "execution_count": 23,
     "metadata": {},
     "output_type": "execute_result"
    }
   ],
   "source": [
    "adata"
   ]
  },
  {
   "cell_type": "code",
   "execution_count": 24,
   "metadata": {},
   "outputs": [],
   "source": [
    "sc.tl.umap(adata)"
   ]
  },
  {
   "cell_type": "code",
   "execution_count": 25,
   "metadata": {},
   "outputs": [
    {
     "name": "stderr",
     "output_type": "stream",
     "text": [
      "/tmp/ipykernel_1312634/2406609555.py:1: FutureWarning: In the future, the default backend for leiden will be igraph instead of leidenalg.\n",
      "\n",
      " To achieve the future defaults please pass: flavor=\"igraph\" and n_iterations=2.  directed must also be False to work with igraph's implementation.\n",
      "  sc.tl.leiden(adata, resolution=1.0)\n"
     ]
    },
    {
     "data": {
      "image/png": "[encoded data removed]",
      "text/plain": [
       "<Figure size 640x480 with 1 Axes>"
      ]
     },
     "metadata": {},
     "output_type": "display_data"
    }
   ],
   "source": [
    "sc.tl.leiden(adata, resolution=1.0)\n",
    "sc.pl.umap(adata, color='leiden')"
   ]
  },
  {
   "cell_type": "code",
   "execution_count": 26,
   "metadata": {},
   "outputs": [
    {
     "data": {
      "text/plain": [
       "AnnData object with n_obs × n_vars = 3994 × 9651\n",
       "    obs: 'cell', 'leiden'\n",
       "    var: 'gene'\n",
       "    uns: 'preprocess_mean_plot', 'preprocess_sd_plot', 'robust_score_plot', 'neighbors', 'umap', 'leiden', 'leiden_colors'\n",
       "    obsm: 'PCA_scLENS', 'X_umap'\n",
       "    obsp: 'distances', 'connectivities'"
      ]
     },
     "execution_count": 26,
     "metadata": {},
     "output_type": "execute_result"
    }
   ],
   "source": [
    "adata"
   ]
  }
 ],
 "metadata": {
  "kernelspec": {
   "display_name": "whatshap_env",
   "language": "python",
   "name": "python3"
  },
  "language_info": {
   "codemirror_mode": {
    "name": "ipython",
    "version": 3
   },
   "file_extension": ".py",
   "mimetype": "text/x-python",
   "name": "python",
   "nbconvert_exporter": "python",
   "pygments_lexer": "ipython3",
   "version": "3.10.14"
  }
 },
 "nbformat": 4,
 "nbformat_minor": 2
}
