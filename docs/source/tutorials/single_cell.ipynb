{
 "cells": [
  {
   "cell_type": "markdown",
   "id": "dac82194",
   "metadata": {},
   "source": [
    "# Single-Cell Analysis"
   ]
  },
  {
   "cell_type": "markdown",
   "id": "8f2f21a2",
   "metadata": {},
   "source": [
    "## read data"
   ]
  },
  {
   "cell_type": "code",
   "execution_count": null,
   "id": "6e323563",
   "metadata": {},
   "outputs": [
    {
     "name": "stdout",
     "output_type": "stream",
     "text": [
      "--2025-07-20 15:37:03--  https://public.pnucolab.com/stlens/sim_muris_atlas.h5ad\n",
      "Resolving public.pnucolab.com (public.pnucolab.com)... 164.125.255.244\n",
      "Connecting to public.pnucolab.com (public.pnucolab.com)|164.125.255.244|:443... connected.\n",
      "HTTP request sent, awaiting response... 200 OK\n",
      "Length: 19778780736 (18G)\n",
      "Saving to: ‘sim_muris_atlas.h5ad’\n",
      "\n",
      "sim_muris_atlas.h5a 100%[===================>]  18.42G   111MB/s    in 2m 50s  \n",
      "\n",
      "2025-07-20 15:40:23 (111 MB/s) - ‘sim_muris_atlas.h5ad’ saved [19778780736/19778780736]\n",
      "\n"
     ]
    }
   ],
   "source": [
    "!wget https://public.pnucolab.com/stlens/sim_muris_atlas.h5ad"
   ]
  },
  {
   "cell_type": "code",
   "execution_count": null,
   "id": "db9d96bc",
   "metadata": {},
   "outputs": [
    {
     "name": "stderr",
     "output_type": "stream",
     "text": [
      "/home/khyeonmin/micromamba/envs/scLENS-py/lib/python3.12/site-packages/anndata/_core/anndata.py:1756: UserWarning: Observation names are not unique. To make them unique, call `.obs_names_make_unique`.\n",
      "  utils.warn_names_duplicates(\"obs\")\n"
     ]
    },
    {
     "data": {
      "text/plain": [
       "AnnData object with n_obs × n_vars = 970000 × 23433\n",
       "    obs: 'batch', 'cell_name'\n",
       "    var: 'gene_name'"
      ]
     },
     "metadata": {},
     "output_type": "display_data"
    }
   ],
   "source": [
    "import scanpy as sc\n",
    "\n",
    "adata = sc.read_h5ad(\"sim_muris_atlas.h5ad\")\n",
    "adata"
   ]
  }
 ],
 "metadata": {
  "language_info": {
   "name": "python"
  }
 },
 "nbformat": 4,
 "nbformat_minor": 5
}
