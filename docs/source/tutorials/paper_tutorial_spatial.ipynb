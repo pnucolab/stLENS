{
 "cells": [
  {
   "cell_type": "markdown",
   "metadata": {},
   "source": [
    "# visiumHD - human crc"
   ]
  },
  {
   "cell_type": "markdown",
   "metadata": {},
   "source": [
    "## Load data"
   ]
  },
  {
   "cell_type": "code",
   "execution_count": 1,
   "metadata": {},
   "outputs": [
    {
     "name": "stdout",
     "output_type": "stream",
     "text": [
      "--2025-07-21 13:55:15--  https://cf.10xgenomics.com/samples/spatial-exp/3.0.0/Visium_HD_Human_Colon_Cancer_P1/Visium_HD_Human_Colon_Cancer_P1_binned_outputs.tar.gz\n",
      "Resolving cf.10xgenomics.com (cf.10xgenomics.com)... 104.18.0.173, 104.18.1.173, 2606:4700::6812:1ad, ...\n",
      "Connecting to cf.10xgenomics.com (cf.10xgenomics.com)|104.18.0.173|:443... connected.\n",
      "HTTP request sent, awaiting response... 200 OK\n",
      "Length: 12319027011 (11G) [application/x-tar]\n",
      "Saving to: ‘./data/visiumhd/Visium_HD_Human_Colon_Cancer_P1_binned_outputs.tar.gz’\n",
      "\n",
      "Visium_HD_Human_Col 100%[===================>]  11.47G   103MB/s    in 2m 12s  \n",
      "\n",
      "2025-07-21 13:57:28 (89.2 MB/s) - ‘./data/visiumhd/Visium_HD_Human_Colon_Cancer_P1_binned_outputs.tar.gz’ saved [12319027011/12319027011]\n",
      "\n"
     ]
    }
   ],
   "source": [
    "!wget -P ./data/visiumhd https://cf.10xgenomics.com/samples/spatial-exp/3.0.0/Visium_HD_Human_Colon_Cancer_P1/Visium_HD_Human_Colon_Cancer_P1_binned_outputs.tar.gz\n"
   ]
  },
  {
   "cell_type": "code",
   "execution_count": null,
   "metadata": {},
   "outputs": [],
   "source": [
    "!wget -P ./data/visiumhd https://cf.10xgenomics.com/samples/spatial-exp/3.0.0/Visium_HD_Human_Colon_Cancer_P1/Visium_HD_Human_Colon_Cancer_P1_feature_slice.h5"
   ]
  },
  {
   "cell_type": "code",
   "execution_count": 3,
   "metadata": {},
   "outputs": [
    {
     "name": "stdout",
     "output_type": "stream",
     "text": [
      "binned_outputs/\n",
      "binned_outputs/square_002um/\n",
      "binned_outputs/square_002um/filtered_feature_bc_matrix/\n",
      "binned_outputs/square_002um/filtered_feature_bc_matrix/matrix.mtx.gz\n",
      "binned_outputs/square_002um/filtered_feature_bc_matrix/features.tsv.gz\n",
      "binned_outputs/square_002um/filtered_feature_bc_matrix/barcodes.tsv.gz\n",
      "binned_outputs/square_002um/filtered_feature_bc_matrix.h5\n",
      "binned_outputs/square_002um/raw_feature_bc_matrix/\n",
      "binned_outputs/square_002um/raw_feature_bc_matrix/matrix.mtx.gz\n",
      "binned_outputs/square_002um/raw_feature_bc_matrix/features.tsv.gz\n",
      "binned_outputs/square_002um/raw_feature_bc_matrix/barcodes.tsv.gz\n",
      "binned_outputs/square_002um/raw_feature_bc_matrix.h5\n",
      "binned_outputs/square_002um/raw_probe_bc_matrix.h5\n",
      "binned_outputs/square_002um/spatial/\n",
      "binned_outputs/square_002um/spatial/aligned_fiducials.jpg\n",
      "binned_outputs/square_002um/spatial/aligned_tissue_image.jpg\n",
      "binned_outputs/square_002um/spatial/cytassist_image.tiff\n",
      "binned_outputs/square_002um/spatial/detected_tissue_image.jpg\n",
      "binned_outputs/square_002um/spatial/scalefactors_json.json\n",
      "binned_outputs/square_002um/spatial/tissue_hires_image.png\n",
      "binned_outputs/square_002um/spatial/tissue_lowres_image.png\n",
      "binned_outputs/square_002um/spatial/tissue_positions.parquet\n",
      "binned_outputs/square_008um/\n",
      "binned_outputs/square_008um/analysis/\n",
      "binned_outputs/square_008um/analysis/pca/\n",
      "binned_outputs/square_008um/analysis/pca/gene_expression_10_components/\n",
      "binned_outputs/square_008um/analysis/pca/gene_expression_10_components/components.csv\n",
      "binned_outputs/square_008um/analysis/pca/gene_expression_10_components/dispersion.csv\n",
      "binned_outputs/square_008um/analysis/pca/gene_expression_10_components/features_selected.csv\n",
      "binned_outputs/square_008um/analysis/pca/gene_expression_10_components/projection.csv\n",
      "binned_outputs/square_008um/analysis/pca/gene_expression_10_components/variance.csv\n",
      "binned_outputs/square_008um/analysis/clustering/\n",
      "binned_outputs/square_008um/analysis/clustering/gene_expression_kmeans_2_clusters/\n",
      "binned_outputs/square_008um/analysis/clustering/gene_expression_kmeans_2_clusters/clusters.csv\n",
      "binned_outputs/square_008um/analysis/clustering/gene_expression_kmeans_3_clusters/\n",
      "binned_outputs/square_008um/analysis/clustering/gene_expression_kmeans_3_clusters/clusters.csv\n",
      "binned_outputs/square_008um/analysis/clustering/gene_expression_kmeans_4_clusters/\n",
      "binned_outputs/square_008um/analysis/clustering/gene_expression_kmeans_4_clusters/clusters.csv\n",
      "binned_outputs/square_008um/analysis/clustering/gene_expression_kmeans_5_clusters/\n",
      "binned_outputs/square_008um/analysis/clustering/gene_expression_kmeans_5_clusters/clusters.csv\n",
      "binned_outputs/square_008um/analysis/clustering/gene_expression_kmeans_6_clusters/\n",
      "binned_outputs/square_008um/analysis/clustering/gene_expression_kmeans_6_clusters/clusters.csv\n",
      "binned_outputs/square_008um/analysis/clustering/gene_expression_kmeans_7_clusters/\n",
      "binned_outputs/square_008um/analysis/clustering/gene_expression_kmeans_7_clusters/clusters.csv\n",
      "binned_outputs/square_008um/analysis/clustering/gene_expression_kmeans_8_clusters/\n",
      "binned_outputs/square_008um/analysis/clustering/gene_expression_kmeans_8_clusters/clusters.csv\n",
      "binned_outputs/square_008um/analysis/clustering/gene_expression_kmeans_9_clusters/\n",
      "binned_outputs/square_008um/analysis/clustering/gene_expression_kmeans_9_clusters/clusters.csv\n",
      "binned_outputs/square_008um/analysis/clustering/gene_expression_kmeans_10_clusters/\n",
      "binned_outputs/square_008um/analysis/clustering/gene_expression_kmeans_10_clusters/clusters.csv\n",
      "binned_outputs/square_008um/analysis/clustering/gene_expression_graphclust/\n",
      "binned_outputs/square_008um/analysis/clustering/gene_expression_graphclust/clusters.csv\n",
      "binned_outputs/square_008um/analysis/diffexp/\n",
      "binned_outputs/square_008um/analysis/diffexp/gene_expression_kmeans_2_clusters/\n",
      "binned_outputs/square_008um/analysis/diffexp/gene_expression_kmeans_2_clusters/differential_expression.csv\n",
      "binned_outputs/square_008um/analysis/diffexp/gene_expression_kmeans_3_clusters/\n",
      "binned_outputs/square_008um/analysis/diffexp/gene_expression_kmeans_3_clusters/differential_expression.csv\n",
      "binned_outputs/square_008um/analysis/diffexp/gene_expression_kmeans_4_clusters/\n",
      "binned_outputs/square_008um/analysis/diffexp/gene_expression_kmeans_4_clusters/differential_expression.csv\n",
      "binned_outputs/square_008um/analysis/diffexp/gene_expression_kmeans_5_clusters/\n",
      "binned_outputs/square_008um/analysis/diffexp/gene_expression_kmeans_5_clusters/differential_expression.csv\n",
      "binned_outputs/square_008um/analysis/diffexp/gene_expression_kmeans_6_clusters/\n",
      "binned_outputs/square_008um/analysis/diffexp/gene_expression_kmeans_6_clusters/differential_expression.csv\n",
      "binned_outputs/square_008um/analysis/diffexp/gene_expression_kmeans_7_clusters/\n",
      "binned_outputs/square_008um/analysis/diffexp/gene_expression_kmeans_7_clusters/differential_expression.csv\n",
      "binned_outputs/square_008um/analysis/diffexp/gene_expression_kmeans_8_clusters/\n",
      "binned_outputs/square_008um/analysis/diffexp/gene_expression_kmeans_8_clusters/differential_expression.csv\n",
      "binned_outputs/square_008um/analysis/diffexp/gene_expression_kmeans_9_clusters/\n",
      "binned_outputs/square_008um/analysis/diffexp/gene_expression_kmeans_9_clusters/differential_expression.csv\n",
      "binned_outputs/square_008um/analysis/diffexp/gene_expression_kmeans_10_clusters/\n",
      "binned_outputs/square_008um/analysis/diffexp/gene_expression_kmeans_10_clusters/differential_expression.csv\n",
      "binned_outputs/square_008um/analysis/diffexp/gene_expression_graphclust/\n",
      "binned_outputs/square_008um/analysis/diffexp/gene_expression_graphclust/differential_expression.csv\n",
      "binned_outputs/square_008um/analysis/umap/\n",
      "binned_outputs/square_008um/analysis/umap/gene_expression_2_components/\n",
      "binned_outputs/square_008um/analysis/umap/gene_expression_2_components/projection.csv\n",
      "binned_outputs/square_008um/cloupe.cloupe\n",
      "binned_outputs/square_008um/filtered_feature_bc_matrix/\n",
      "binned_outputs/square_008um/filtered_feature_bc_matrix/matrix.mtx.gz\n",
      "binned_outputs/square_008um/filtered_feature_bc_matrix/features.tsv.gz\n",
      "binned_outputs/square_008um/filtered_feature_bc_matrix/barcodes.tsv.gz\n",
      "binned_outputs/square_008um/filtered_feature_bc_matrix.h5\n",
      "binned_outputs/square_008um/raw_feature_bc_matrix/\n",
      "binned_outputs/square_008um/raw_feature_bc_matrix/matrix.mtx.gz\n",
      "binned_outputs/square_008um/raw_feature_bc_matrix/features.tsv.gz\n",
      "binned_outputs/square_008um/raw_feature_bc_matrix/barcodes.tsv.gz\n",
      "binned_outputs/square_008um/raw_feature_bc_matrix.h5\n",
      "binned_outputs/square_008um/spatial/\n",
      "binned_outputs/square_008um/spatial/aligned_fiducials.jpg\n",
      "binned_outputs/square_008um/spatial/aligned_tissue_image.jpg\n",
      "binned_outputs/square_008um/spatial/cytassist_image.tiff\n",
      "binned_outputs/square_008um/spatial/detected_tissue_image.jpg\n",
      "binned_outputs/square_008um/spatial/scalefactors_json.json\n",
      "binned_outputs/square_008um/spatial/tissue_hires_image.png\n",
      "binned_outputs/square_008um/spatial/tissue_lowres_image.png\n",
      "binned_outputs/square_008um/spatial/tissue_positions.parquet\n",
      "binned_outputs/square_016um/\n",
      "binned_outputs/square_016um/analysis/\n",
      "binned_outputs/square_016um/analysis/pca/\n",
      "binned_outputs/square_016um/analysis/pca/gene_expression_10_components/\n",
      "binned_outputs/square_016um/analysis/pca/gene_expression_10_components/components.csv\n",
      "binned_outputs/square_016um/analysis/pca/gene_expression_10_components/dispersion.csv\n",
      "binned_outputs/square_016um/analysis/pca/gene_expression_10_components/features_selected.csv\n",
      "binned_outputs/square_016um/analysis/pca/gene_expression_10_components/projection.csv\n",
      "binned_outputs/square_016um/analysis/pca/gene_expression_10_components/variance.csv\n",
      "binned_outputs/square_016um/analysis/clustering/\n",
      "binned_outputs/square_016um/analysis/clustering/gene_expression_kmeans_2_clusters/\n",
      "binned_outputs/square_016um/analysis/clustering/gene_expression_kmeans_2_clusters/clusters.csv\n",
      "binned_outputs/square_016um/analysis/clustering/gene_expression_kmeans_3_clusters/\n",
      "binned_outputs/square_016um/analysis/clustering/gene_expression_kmeans_3_clusters/clusters.csv\n",
      "binned_outputs/square_016um/analysis/clustering/gene_expression_kmeans_4_clusters/\n",
      "binned_outputs/square_016um/analysis/clustering/gene_expression_kmeans_4_clusters/clusters.csv\n",
      "binned_outputs/square_016um/analysis/clustering/gene_expression_kmeans_5_clusters/\n",
      "binned_outputs/square_016um/analysis/clustering/gene_expression_kmeans_5_clusters/clusters.csv\n",
      "binned_outputs/square_016um/analysis/clustering/gene_expression_kmeans_6_clusters/\n",
      "binned_outputs/square_016um/analysis/clustering/gene_expression_kmeans_6_clusters/clusters.csv\n",
      "binned_outputs/square_016um/analysis/clustering/gene_expression_kmeans_7_clusters/\n",
      "binned_outputs/square_016um/analysis/clustering/gene_expression_kmeans_7_clusters/clusters.csv\n",
      "binned_outputs/square_016um/analysis/clustering/gene_expression_kmeans_8_clusters/\n",
      "binned_outputs/square_016um/analysis/clustering/gene_expression_kmeans_8_clusters/clusters.csv\n",
      "binned_outputs/square_016um/analysis/clustering/gene_expression_kmeans_9_clusters/\n",
      "binned_outputs/square_016um/analysis/clustering/gene_expression_kmeans_9_clusters/clusters.csv\n",
      "binned_outputs/square_016um/analysis/clustering/gene_expression_kmeans_10_clusters/\n",
      "binned_outputs/square_016um/analysis/clustering/gene_expression_kmeans_10_clusters/clusters.csv\n",
      "binned_outputs/square_016um/analysis/clustering/gene_expression_graphclust/\n",
      "binned_outputs/square_016um/analysis/clustering/gene_expression_graphclust/clusters.csv\n",
      "binned_outputs/square_016um/analysis/diffexp/\n",
      "binned_outputs/square_016um/analysis/diffexp/gene_expression_kmeans_2_clusters/\n",
      "binned_outputs/square_016um/analysis/diffexp/gene_expression_kmeans_2_clusters/differential_expression.csv\n",
      "binned_outputs/square_016um/analysis/diffexp/gene_expression_kmeans_3_clusters/\n",
      "binned_outputs/square_016um/analysis/diffexp/gene_expression_kmeans_3_clusters/differential_expression.csv\n",
      "binned_outputs/square_016um/analysis/diffexp/gene_expression_kmeans_4_clusters/\n",
      "binned_outputs/square_016um/analysis/diffexp/gene_expression_kmeans_4_clusters/differential_expression.csv\n",
      "binned_outputs/square_016um/analysis/diffexp/gene_expression_kmeans_5_clusters/\n",
      "binned_outputs/square_016um/analysis/diffexp/gene_expression_kmeans_5_clusters/differential_expression.csv\n",
      "binned_outputs/square_016um/analysis/diffexp/gene_expression_kmeans_6_clusters/\n",
      "binned_outputs/square_016um/analysis/diffexp/gene_expression_kmeans_6_clusters/differential_expression.csv\n",
      "binned_outputs/square_016um/analysis/diffexp/gene_expression_kmeans_7_clusters/\n",
      "binned_outputs/square_016um/analysis/diffexp/gene_expression_kmeans_7_clusters/differential_expression.csv\n",
      "binned_outputs/square_016um/analysis/diffexp/gene_expression_kmeans_8_clusters/\n",
      "binned_outputs/square_016um/analysis/diffexp/gene_expression_kmeans_8_clusters/differential_expression.csv\n",
      "binned_outputs/square_016um/analysis/diffexp/gene_expression_kmeans_9_clusters/\n",
      "binned_outputs/square_016um/analysis/diffexp/gene_expression_kmeans_9_clusters/differential_expression.csv\n",
      "binned_outputs/square_016um/analysis/diffexp/gene_expression_kmeans_10_clusters/\n",
      "binned_outputs/square_016um/analysis/diffexp/gene_expression_kmeans_10_clusters/differential_expression.csv\n",
      "binned_outputs/square_016um/analysis/diffexp/gene_expression_graphclust/\n",
      "binned_outputs/square_016um/analysis/diffexp/gene_expression_graphclust/differential_expression.csv\n",
      "binned_outputs/square_016um/analysis/umap/\n",
      "binned_outputs/square_016um/analysis/umap/gene_expression_2_components/\n",
      "binned_outputs/square_016um/analysis/umap/gene_expression_2_components/projection.csv\n",
      "binned_outputs/square_016um/filtered_feature_bc_matrix/\n",
      "binned_outputs/square_016um/filtered_feature_bc_matrix/matrix.mtx.gz\n",
      "binned_outputs/square_016um/filtered_feature_bc_matrix/features.tsv.gz\n",
      "binned_outputs/square_016um/filtered_feature_bc_matrix/barcodes.tsv.gz\n",
      "binned_outputs/square_016um/filtered_feature_bc_matrix.h5\n",
      "binned_outputs/square_016um/raw_feature_bc_matrix/\n",
      "binned_outputs/square_016um/raw_feature_bc_matrix/matrix.mtx.gz\n",
      "binned_outputs/square_016um/raw_feature_bc_matrix/features.tsv.gz\n",
      "binned_outputs/square_016um/raw_feature_bc_matrix/barcodes.tsv.gz\n",
      "binned_outputs/square_016um/raw_feature_bc_matrix.h5\n",
      "binned_outputs/square_016um/spatial/\n",
      "binned_outputs/square_016um/spatial/aligned_fiducials.jpg\n",
      "binned_outputs/square_016um/spatial/aligned_tissue_image.jpg\n",
      "binned_outputs/square_016um/spatial/cytassist_image.tiff\n",
      "binned_outputs/square_016um/spatial/detected_tissue_image.jpg\n",
      "binned_outputs/square_016um/spatial/scalefactors_json.json\n",
      "binned_outputs/square_016um/spatial/tissue_hires_image.png\n",
      "binned_outputs/square_016um/spatial/tissue_lowres_image.png\n",
      "binned_outputs/square_016um/spatial/tissue_positions.parquet\n"
     ]
    }
   ],
   "source": [
    "!tar -xvzf ./data/visiumhd/Visium_HD_Human_Colon_Cancer_P1_binned_outputs.tar.gz -C ./data/visiumhd"
   ]
  },
  {
   "cell_type": "code",
   "execution_count": 4,
   "metadata": {},
   "outputs": [
    {
     "name": "stdout",
     "output_type": "stream",
     "text": [
      "--2025-07-21 14:02:47--  https://zenodo.org/records/15042463/files/HumanColonCancer_VisiumHD-main.zip\n",
      "Resolving zenodo.org (zenodo.org)... 188.185.45.92, 188.185.48.194, 188.185.43.25, ...\n",
      "Connecting to zenodo.org (zenodo.org)|188.185.45.92|:443... connected.\n",
      "HTTP request sent, awaiting response... 200 OK\n",
      "Length: 196039409 (187M) [application/octet-stream]\n",
      "Saving to: ‘./data/visiumhd/HumanColonCancer_VisiumHD-main.zip’\n",
      "\n",
      "HumanColonCancer_Vi 100%[===================>] 186.96M  4.76MB/s    in 41s     \n",
      "\n",
      "2025-07-21 14:03:30 (4.52 MB/s) - ‘./data/visiumhd/HumanColonCancer_VisiumHD-main.zip’ saved [196039409/196039409]\n",
      "\n"
     ]
    }
   ],
   "source": [
    "!wget -P ./data/visiumhd https://zenodo.org/records/15042463/files/HumanColonCancer_VisiumHD-main.zip\n"
   ]
  },
  {
   "cell_type": "code",
   "execution_count": 5,
   "metadata": {},
   "outputs": [
    {
     "name": "stdout",
     "output_type": "stream",
     "text": [
      "Archive:  ./data/visiumhd/HumanColonCancer_VisiumHD-main.zip\n",
      "675b7e4c133b93b0e29406eb2426b6360edb6af2\n",
      "   creating: ./data/visiumhd/HumanColonCancer_VisiumHD-main/\n",
      "   creating: ./data/visiumhd/HumanColonCancer_VisiumHD-main/Figures/\n",
      "  inflating: ./data/visiumhd/HumanColonCancer_VisiumHD-main/Figures/Figure_2d.R  \n",
      "  inflating: ./data/visiumhd/HumanColonCancer_VisiumHD-main/Figures/Figure_3.R  \n",
      "  inflating: ./data/visiumhd/HumanColonCancer_VisiumHD-main/Figures/Figure_4.R  \n",
      "  inflating: ./data/visiumhd/HumanColonCancer_VisiumHD-main/Figures/Figure_5.R  \n",
      "  inflating: ./data/visiumhd/HumanColonCancer_VisiumHD-main/Figures/Figure_6.R  \n",
      "  inflating: ./data/visiumhd/HumanColonCancer_VisiumHD-main/Figures/Figure_7.R  \n",
      "  inflating: ./data/visiumhd/HumanColonCancer_VisiumHD-main/Figures/SupplementalFigure_1.R  \n",
      "  inflating: ./data/visiumhd/HumanColonCancer_VisiumHD-main/Figures/SupplementalFigure_10.R  \n",
      "  inflating: ./data/visiumhd/HumanColonCancer_VisiumHD-main/Figures/SupplementalFigure_3.R  \n",
      "  inflating: ./data/visiumhd/HumanColonCancer_VisiumHD-main/Figures/SupplementalFigure_4.R  \n",
      "  inflating: ./data/visiumhd/HumanColonCancer_VisiumHD-main/Figures/SupplementalFigure_5.R  \n",
      "  inflating: ./data/visiumhd/HumanColonCancer_VisiumHD-main/Figures/SupplementalFigure_6.R  \n",
      "  inflating: ./data/visiumhd/HumanColonCancer_VisiumHD-main/Figures/SupplementalFigure_7.R  \n",
      "  inflating: ./data/visiumhd/HumanColonCancer_VisiumHD-main/Figures/SupplementalFigure_8.R  \n",
      "  inflating: ./data/visiumhd/HumanColonCancer_VisiumHD-main/Figures/SupplementalFigure_9.R  \n",
      "   creating: ./data/visiumhd/HumanColonCancer_VisiumHD-main/Figures/Xenium_Visium_Alignment/\n",
      " extracting: ./data/visiumhd/HumanColonCancer_VisiumHD-main/Figures/Xenium_Visium_Alignment/Xenium_P1_cell_info.csv.gz  \n",
      " extracting: ./data/visiumhd/HumanColonCancer_VisiumHD-main/Figures/Xenium_Visium_Alignment/Xenium_P2_cell_info.csv.gz  \n",
      " extracting: ./data/visiumhd/HumanColonCancer_VisiumHD-main/Figures/Xenium_Visium_Alignment/Xenium_P5_cell_info.csv.gz  \n",
      "  inflating: ./data/visiumhd/HumanColonCancer_VisiumHD-main/LICENSE.md  \n",
      "   creating: ./data/visiumhd/HumanColonCancer_VisiumHD-main/MetaData/\n",
      "  inflating: ./data/visiumhd/HumanColonCancer_VisiumHD-main/MetaData/DeconvolutionResults_P1CRC.csv.gz  \n",
      "  inflating: ./data/visiumhd/HumanColonCancer_VisiumHD-main/MetaData/DeconvolutionResults_P2CRC.csv.gz  \n",
      "  inflating: ./data/visiumhd/HumanColonCancer_VisiumHD-main/MetaData/DeconvolutionResults_P5CRC.csv.gz  \n",
      "  inflating: ./data/visiumhd/HumanColonCancer_VisiumHD-main/MetaData/P1CRC_Metadata.parquet  \n",
      "  inflating: ./data/visiumhd/HumanColonCancer_VisiumHD-main/MetaData/P2CRC_Metadata.parquet  \n",
      "  inflating: ./data/visiumhd/HumanColonCancer_VisiumHD-main/MetaData/P5CRC_Metadata.parquet  \n",
      " extracting: ./data/visiumhd/HumanColonCancer_VisiumHD-main/MetaData/SingleCell_MetaData.csv.gz  \n",
      "   creating: ./data/visiumhd/HumanColonCancer_VisiumHD-main/Methods/\n",
      "  inflating: ./data/visiumhd/HumanColonCancer_VisiumHD-main/Methods/AuxFunctions.R  \n",
      "  inflating: ./data/visiumhd/HumanColonCancer_VisiumHD-main/Methods/Deconvolution.R  \n",
      "  inflating: ./data/visiumhd/HumanColonCancer_VisiumHD-main/Methods/FlexSingleCell.R  \n",
      "  inflating: ./data/visiumhd/HumanColonCancer_VisiumHD-main/Methods/NucleiSegmentation.py  \n",
      "  inflating: ./data/visiumhd/HumanColonCancer_VisiumHD-main/Methods/environment_nucleisegmentation.yml  \n",
      "  inflating: ./data/visiumhd/HumanColonCancer_VisiumHD-main/README.md  \n",
      "  inflating: ./data/visiumhd/HumanColonCancer_VisiumHD-main/Team  \n",
      "   creating: ./data/visiumhd/HumanColonCancer_VisiumHD-main/ext/\n",
      "  inflating: ./data/visiumhd/HumanColonCancer_VisiumHD-main/ext/Figure_CRC.png  \n"
     ]
    }
   ],
   "source": [
    "!unzip ./data/visiumhd/HumanColonCancer_VisiumHD-main.zip -d ./data/visiumhd"
   ]
  },
  {
   "cell_type": "code",
   "execution_count": 7,
   "metadata": {},
   "outputs": [
    {
     "name": "stderr",
     "output_type": "stream",
     "text": [
      "/home/l202255179/micromamba/envs/kogo3/lib/python3.10/site-packages/xarray_schema/__init__.py:1: UserWarning: pkg_resources is deprecated as an API. See https://setuptools.pypa.io/en/latest/pkg_resources.html. The pkg_resources package is slated for removal as early as 2025-11-30. Refrain from using this package or pin to Setuptools<81.\n",
      "  from pkg_resources import DistributionNotFound, get_distribution\n",
      "/home/l202255179/micromamba/envs/kogo3/lib/python3.10/site-packages/numba/core/decorators.py:246: RuntimeWarning: nopython is set for njit and is ignored\n",
      "  warnings.warn('nopython is set for njit and is ignored', RuntimeWarning)\n"
     ]
    },
    {
     "ename": "ModuleNotFoundError",
     "evalue": "No module named 'spatialdata_plot'",
     "output_type": "error",
     "traceback": [
      "\u001b[0;31m---------------------------------------------------------------------------\u001b[0m",
      "\u001b[0;31mModuleNotFoundError\u001b[0m                       Traceback (most recent call last)",
      "Cell \u001b[0;32mIn[7], line 2\u001b[0m\n\u001b[1;32m      1\u001b[0m \u001b[38;5;28;01mimport\u001b[39;00m\u001b[38;5;250m \u001b[39m\u001b[38;5;21;01mspatialdata\u001b[39;00m\u001b[38;5;250m \u001b[39m\u001b[38;5;28;01mas\u001b[39;00m\u001b[38;5;250m \u001b[39m\u001b[38;5;21;01msd\u001b[39;00m\n\u001b[0;32m----> 2\u001b[0m \u001b[38;5;28;01mimport\u001b[39;00m\u001b[38;5;250m \u001b[39m\u001b[38;5;21;01mspatialdata_plot\u001b[39;00m\n\u001b[1;32m      3\u001b[0m \u001b[38;5;28;01mimport\u001b[39;00m\u001b[38;5;250m \u001b[39m\u001b[38;5;21;01mspatialdata_io\u001b[39;00m\n\u001b[1;32m      5\u001b[0m sdata \u001b[38;5;241m=\u001b[39m spatialdata_io\u001b[38;5;241m.\u001b[39mvisium_hd(path\u001b[38;5;241m=\u001b[39m\u001b[38;5;124m'\u001b[39m\u001b[38;5;124m./data/visiumhd\u001b[39m\u001b[38;5;124m'\u001b[39m, load_all_images\u001b[38;5;241m=\u001b[39m\u001b[38;5;28;01mFalse\u001b[39;00m)\n",
      "\u001b[0;31mModuleNotFoundError\u001b[0m: No module named 'spatialdata_plot'"
     ]
    }
   ],
   "source": [
    "import spatialdata as sd\n",
    "import spatialdata_plot\n",
    "import spatialdata_io\n",
    "\n",
    "sdata = spatialdata_io.visium_hd(path='./data/visiumhd', load_all_images=False)\n",
    "sdata"
   ]
  },
  {
   "cell_type": "code",
   "execution_count": null,
   "metadata": {},
   "outputs": [],
   "source": [
    "import pandas as pd\n",
    "dr = pd.read_csv('./data/visiumhd/HumanColonCancer_VisiumHD-main/MetaData/DeconvolutionResults_P1CRC.csv.gz')\n",
    "dr"
   ]
  },
  {
   "cell_type": "code",
   "execution_count": null,
   "metadata": {},
   "outputs": [],
   "source": [
    "filtered_dr = dr.dropna(subset=[\"DeconvolutionLabel1\", \"DeconvolutionLabel2\"], how=\"all\")\n",
    "filtered_dr"
   ]
  },
  {
   "cell_type": "code",
   "execution_count": null,
   "metadata": {},
   "outputs": [],
   "source": [
    "mask = sdata.tables['square_008um'].obs.index.isin(filtered_dr['barcode'].values)\n",
    "adata = sdata.tables['square_008um'][mask]\n",
    "\n",
    "filtered_dr_indexed = filtered_dr.set_index('barcode')\n",
    "\n",
    "adata.obs = adata.obs.merge(\n",
    "    filtered_dr_indexed[['DeconvolutionClass', 'DeconvolutionLabel1', 'DeconvolutionLabel2']],\n",
    "    left_index=True, right_index=True, how='left'\n",
    ")\n",
    "adata"
   ]
  },
  {
   "cell_type": "code",
   "execution_count": 6,
   "metadata": {},
   "outputs": [],
   "source": [
    "adata.write_h5ad('./data/visiumhd/anndata_human_crc.h5ad')"
   ]
  },
  {
   "cell_type": "code",
   "execution_count": null,
   "metadata": {},
   "outputs": [],
   "source": [
    "import scanpy as sc\n",
    "sc.pl.spatial(adata, spot_size = 100, color = 'DeconvolutionLabel1')"
   ]
  },
  {
   "cell_type": "markdown",
   "metadata": {},
   "source": [
    "## filtering"
   ]
  },
  {
   "cell_type": "code",
   "execution_count": 8,
   "metadata": {},
   "outputs": [
    {
     "data": {
      "text/plain": [
       "AnnData object with n_obs × n_vars = 159526 × 16798\n",
       "    obs: 'in_tissue', 'array_row', 'array_col', 'location_id', 'region', 'DeconvolutionClass', 'DeconvolutionLabel1', 'DeconvolutionLabel2', 'n_genes'\n",
       "    var: 'gene_ids', 'feature_types', 'genome', 'mt', 'n_cells'\n",
       "    uns: 'spatialdata_attrs'\n",
       "    obsm: 'spatial'\n",
       "    layers: 'counts'"
      ]
     },
     "execution_count": 8,
     "metadata": {},
     "output_type": "execute_result"
    }
   ],
   "source": [
    "import scanpy as sc\n",
    "\n",
    "adata.var[\"mt\"] = adata.var_names.str.startswith(\"MT-\")\n",
    "\n",
    "sc.pp.calculate_qc_metrics(\n",
    "    adata, qc_vars=[\"mt\"], inplace=False, log1p=True\n",
    ")\n",
    "\n",
    "adata.layers[\"counts\"] = adata.X.copy()\n",
    "sc.pp.filter_cells(adata, min_genes=200)\n",
    "sc.pp.filter_genes(adata, min_cells=15)\n",
    "adata"
   ]
  },
  {
   "cell_type": "markdown",
   "metadata": {},
   "source": [
    "## normalizing & PCA"
   ]
  },
  {
   "cell_type": "markdown",
   "metadata": {},
   "source": [
    "### stLENS"
   ]
  },
  {
   "cell_type": "code",
   "execution_count": null,
   "metadata": {},
   "outputs": [],
   "source": [
    "# import stLENS\n",
    "# from stLENS import scLENS_py\n",
    "# stlens = scLENS_py.scLENS_py()"
   ]
  },
  {
   "cell_type": "code",
   "execution_count": 9,
   "metadata": {},
   "outputs": [
    {
     "name": "stderr",
     "output_type": "stream",
     "text": [
      "/home/l202255179/micromamba/envs/test2/lib/python3.10/site-packages/tqdm/auto.py:21: TqdmWarning: IProgress not found. Please update jupyter and ipywidgets. See https://ipywidgets.readthedocs.io/en/stable/user_install.html\n",
      "  from .autonotebook import tqdm as notebook_tqdm\n"
     ]
    }
   ],
   "source": [
    "from src import scLENS_py\n",
    "stlens = scLENS_py.scLENS_py()"
   ]
  },
  {
   "cell_type": "code",
   "execution_count": 10,
   "metadata": {},
   "outputs": [],
   "source": [
    "import os\n",
    "os.environ['CUDA_VISIBLE_DEVICES'] = '1'"
   ]
  },
  {
   "cell_type": "code",
   "execution_count": 11,
   "metadata": {},
   "outputs": [],
   "source": [
    "import shutil\n",
    "import os\n",
    "\n",
    "stlens.directory = './output/human_crc'\n",
    "\n",
    "if os.path.exists(stlens.directory):\n",
    "    shutil.rmtree(stlens.directory)  # 디렉토리 삭제\n",
    "os.makedirs(stlens.directory)"
   ]
  },
  {
   "cell_type": "code",
   "execution_count": null,
   "metadata": {},
   "outputs": [],
   "source": [
    "adata_stlens = adata.copy()"
   ]
  },
  {
   "cell_type": "code",
   "execution_count": null,
   "metadata": {},
   "outputs": [],
   "source": [
    "stlens.preprocess(adata_stlens, filter=False, plot=False)"
   ]
  },
  {
   "cell_type": "code",
   "execution_count": 13,
   "metadata": {},
   "outputs": [],
   "source": [
    "stlens.device = 'gpu'"
   ]
  },
  {
   "cell_type": "code",
   "execution_count": null,
   "metadata": {},
   "outputs": [],
   "source": [
    "stlens.fit_transform(plot_mp=False)"
   ]
  },
  {
   "cell_type": "markdown",
   "metadata": {},
   "source": [
    "### Scanpy"
   ]
  },
  {
   "cell_type": "code",
   "execution_count": null,
   "metadata": {},
   "outputs": [],
   "source": [
    "adata_scanpy = adata.copy()"
   ]
  },
  {
   "cell_type": "code",
   "execution_count": null,
   "metadata": {},
   "outputs": [],
   "source": [
    "sc.pp.normalize_total(adata_scanpy)\n",
    "sc.pp.log1p(adata_scanpy)"
   ]
  },
  {
   "cell_type": "code",
   "execution_count": null,
   "metadata": {},
   "outputs": [],
   "source": [
    "sc.pp.pca(adata_scanpy)"
   ]
  },
  {
   "cell_type": "markdown",
   "metadata": {},
   "source": [
    "## KNN & UMAP embedding"
   ]
  },
  {
   "cell_type": "markdown",
   "metadata": {},
   "source": [
    "### stLENS"
   ]
  },
  {
   "cell_type": "code",
   "execution_count": null,
   "metadata": {},
   "outputs": [],
   "source": [
    "sc.pp.neighbors(adata_stlens, use_rep='X_pca_stlens', metric = 'cosine')\n",
    "sc.tl.umap(adata_stlens)"
   ]
  },
  {
   "cell_type": "markdown",
   "metadata": {},
   "source": [
    "### Scanpy"
   ]
  },
  {
   "cell_type": "code",
   "execution_count": null,
   "metadata": {},
   "outputs": [],
   "source": [
    "sc.pp.neighbors(adata_scanpy, use_rep='X_pca')\n",
    "sc.tl.umap(adata_scanpy)"
   ]
  },
  {
   "cell_type": "markdown",
   "metadata": {},
   "source": [
    "## Ground-truth based measures"
   ]
  },
  {
   "cell_type": "code",
   "execution_count": null,
   "metadata": {},
   "outputs": [],
   "source": [
    "mask = adata_stlens.obs['annotation'] != 'Unknown'\n",
    "adata_stlens = adata[mask].copy()\n",
    "\n",
    "mask = adata_scanpy.obs['annotation'] != 'Unknown'\n",
    "adata_scanpy = adata_scanpy[mask].copy()"
   ]
  },
  {
   "cell_type": "code",
   "execution_count": null,
   "metadata": {},
   "outputs": [],
   "source": [
    "import numpy as np\n",
    "import pandas as pd\n",
    "\n",
    "def neighbor_confusion_matrix(adata, label_key='cell_name', k=15):\n",
    "    from collections import defaultdict\n",
    "\n",
    "    conn = adata.obsp['connectivities'].tolil()\n",
    "    labels = adata.obs[label_key].astype('category')\n",
    "    label_codes = labels.cat.codes\n",
    "    label_names = labels.cat.categories\n",
    "    n_labels = len(label_names)\n",
    "\n",
    "    mat = np.zeros((n_labels, n_labels))  \n",
    "\n",
    "    for i in range(adata.n_obs):\n",
    "        src = label_codes[i] \n",
    "        neighbors = conn.rows[i] \n",
    "        neighbors = [j for j in neighbors if j != i]  \n",
    "        if not neighbors:\n",
    "            continue\n",
    "        neighbor_labels = label_codes[neighbors]\n",
    "        for tgt in neighbor_labels:\n",
    "            mat[src, tgt] += 1\n",
    "\n",
    "    \n",
    "    mat = mat / mat.sum(axis=1, keepdims=True)\n",
    "    return pd.DataFrame(mat, index=label_names, columns=label_names)\n",
    "conf_mat_stlens = neighbor_confusion_matrix(adata_stlens, label_key = 'annotation')\n",
    "conf_mat_scanpy = neighbor_confusion_matrix(adata_Scanpy, label_key = 'annotation')"
   ]
  },
  {
   "cell_type": "code",
   "execution_count": null,
   "metadata": {},
   "outputs": [],
   "source": [
    "conf_mat_stlens_diagonal_values = np.diag(conf_mat_stlens.values)\n",
    "conf_mat_scanpy_diagonal_values = np.diag(conf_mat_scanpy.values)"
   ]
  },
  {
   "cell_type": "code",
   "execution_count": null,
   "metadata": {},
   "outputs": [],
   "source": [
    "import seaborn as sns\n",
    "import matplotlib.pyplot as plt\n",
    "import pandas as pd\n",
    "\n",
    "lst = [list(conf_mat_stlens_diagonal_values), list(conf_mat_scanpy_diagonal_values)]\n",
    "x_labels = ['stLENS', 'Scanpy default']\n",
    "\n",
    "df = pd.DataFrame({\n",
    "    'value': lst[0] + lst[1],\n",
    "    'method': [x_labels[0]] * len(lst[0]) + [x_labels[1]] * len(lst[1])\n",
    "})\n",
    "\n",
    "palette = {\n",
    "    'stLENS': '#77b5d9',   \n",
    "    'Scanpy default': '#f4a582'   \n",
    "}\n",
    "\n",
    "plt.figure(figsize=(4, 6))\n",
    "sns.boxplot(data=df, x='method', y='value', palette=palette)\n",
    "\n",
    "plt.xlabel('')\n",
    "plt.ylabel('')\n",
    "plt.tight_layout()\n",
    "plt.show()"
   ]
  },
  {
   "cell_type": "markdown",
   "metadata": {},
   "source": [
    "## Leiden measures"
   ]
  },
  {
   "cell_type": "code",
   "execution_count": null,
   "metadata": {},
   "outputs": [],
   "source": [
    "# leiden 결과들\n",
    "# heatmap"
   ]
  },
  {
   "cell_type": "code",
   "execution_count": null,
   "metadata": {},
   "outputs": [],
   "source": [
    "from scipy.stats import pearsonr\n",
    "import numpy as np\n",
    "import pandas as pd\n",
    "import scanpy as sc\n",
    "import matplotlib.pyplot as plt\n",
    "import os\n",
    "\n",
    "def optimize_resolution_for_all_celltypes(\n",
    "    adata,\n",
    "    pca_key='X_pca_stlens',\n",
    "    annotation_key='annotation',\n",
    "    res_range=np.arange(0.5, 5.1, 0.5),\n",
    "    leiden_prefix='leiden',\n",
    "):\n",
    "    summary = []\n",
    "\n",
    "    for res in res_range:\n",
    "        leiden_key = f\"{leiden_prefix}_{res:.1f}\"\n",
    "        if leiden_key not in adata.obs:\n",
    "            sc.tl.leiden(adata, resolution=res, key_added=leiden_key)\n",
    "\n",
    "    cell_types = adata.obs[annotation_key].cat.categories\n",
    "\n",
    "    for cell_type in cell_types:\n",
    "        correlations = []\n",
    "        best_clusters = []\n",
    "\n",
    "        # ground truth centroid\n",
    "        mask = adata.obs[annotation_key] == cell_type\n",
    "        if mask.sum() == 0:\n",
    "            continue\n",
    "        gt_centroid = adata.obsm[pca_key][mask].mean(axis=0)\n",
    "\n",
    "        for res in res_range:\n",
    "            leiden_key = f\"{leiden_prefix}_{res:.1f}\"\n",
    "\n",
    "            best_r = -2\n",
    "            best_cluster = None\n",
    "            for cluster in adata.obs[leiden_key].unique():\n",
    "                c_mask = adata.obs[leiden_key] == cluster\n",
    "                if c_mask.sum() == 0:\n",
    "                    continue\n",
    "                cluster_centroid = adata.obsm[pca_key][c_mask].mean(axis=0)\n",
    "                r, _ = pearsonr(gt_centroid, cluster_centroid)\n",
    "                if r > best_r:\n",
    "                    best_r = r\n",
    "                    best_cluster = cluster\n",
    "\n",
    "            correlations.append(best_r)\n",
    "            best_clusters.append(best_cluster)\n",
    "\n",
    "        df = pd.DataFrame({\n",
    "            'resolution': res_range,\n",
    "            'correlation': correlations,\n",
    "            'best_cluster': best_clusters\n",
    "        })\n",
    "\n",
    "        best_idx = df['correlation'].idxmax()\n",
    "        best_row = df.loc[best_idx]\n",
    "        summary.append({\n",
    "            'cell_type': cell_type,\n",
    "            'best_resolution': best_row['resolution'],\n",
    "            'best_cluster': best_row['best_cluster'],\n",
    "            'best_correlation': best_row['correlation']\n",
    "        })\n",
    "        \n",
    "    return pd.DataFrame(summary)\n",
    "\n",
    "summary_df_stlens = optimize_resolution_for_all_celltypes(\n",
    "    adata_stlens,\n",
    "    pca_key='X_pca_stlens',\n",
    "    annotation_key='annotation',\n",
    "    res_range=np.arange(0.5, 5.1, 0.5)\n",
    ")\n",
    "\n",
    "summary_df_scanpy = optimize_resolution_for_all_celltypes(\n",
    "    adata_scanpy,\n",
    "    pca_key='X_pca',\n",
    "    annotation_key='annotation',\n",
    "    res_range=np.arange(0.5, 5.1, 0.5) \n",
    ")"
   ]
  },
  {
   "cell_type": "code",
   "execution_count": null,
   "metadata": {},
   "outputs": [],
   "source": [
    "name_map = {\n",
    "    'Goblet': 'Goblet',\n",
    "    'Tumor II': 'Tumor2',\n",
    "    'CD4 T cell': 'CD4 T',\n",
    "    'CAF': 'CAF',\n",
    "    'Macrophage': 'Macro',\n",
    "    'Proliferating Fibroblast': 'ProFib',\n",
    "    'Tumor III': 'Tumor3',\n",
    "    'Mature B': 'B Mature',\n",
    "    'Pericytes': 'Pericyte',\n",
    "    'Myofibroblast': 'MyoFib',\n",
    "    'Endothelial': 'Endo',\n",
    "    'CD8 T cell': 'CD8 T',\n",
    "    'Tuft': 'Tuft',\n",
    "    'Proliferating Macrophages': 'ProMacro',\n",
    "    'Enterocyte': 'Entero',\n",
    "    'Fibroblast': 'Fibro',\n",
    "    'cDC I': 'cDC1',\n",
    "    'mRegDC': 'mRegDC',\n",
    "    'Plasma': 'Plasma',\n",
    "    'Enteric Glial': 'Glial',\n",
    "    'Tumor V': 'Tumor5',\n",
    "    'Proliferating Immune II': 'ProImmune2',\n",
    "    'Neutrophil': 'Neutro',\n",
    "    'Tumor IV': 'Tumor4',\n",
    "    'Neuroendocrine': 'Neuroendo',\n",
    "    'Lymphatic Endothelial': 'LymphEndo',\n",
    "    'Mast': 'Mast',\n",
    "    'pDC': 'pDC',\n",
    "    'Tumor I': 'Tumor1',\n",
    "    'Epithelial': 'Epi',\n",
    "    'vSM': 'vSM',\n",
    "    'Smooth Muscle': 'SM',\n",
    "    'Memory B': 'B Memory',\n",
    "    'Adipocyte': 'Adipo',\n",
    "    'Unknown III (SM)': 'Unknown3_SM',\n",
    "    'SM Stress Response': 'SM_Stress',\n",
    "    'NK': 'NK'\n",
    "    }"
   ]
  },
  {
   "cell_type": "code",
   "execution_count": null,
   "metadata": {},
   "outputs": [],
   "source": [
    "adata_stlens.obs['Faria de Oliveira et al.'] = adata_stlens.obs['annotation'].replace(name_map)\n",
    "adata_scanpy.obs['Faria de Oliveira et al.'] = adata_scanpy.obs['annotation'].replace(name_map)"
   ]
  },
  {
   "cell_type": "code",
   "execution_count": null,
   "metadata": {},
   "outputs": [],
   "source": [
    "for i in adata_stlens.obs['annotation'].cat.categories:\n",
    "    df_stlens = summary_df_stlens[summary_df_stlens['cell_type']== i]\n",
    "    df_scanpy = summary_df_scanpy[summary_df_scanpy['cell_type']== i]\n",
    "\n",
    "    fig, axs = plt.subplots(1, 3, figsize=(12, 5))\n",
    "\n",
    "    sc.pl.spatial(\n",
    "        adata_stlens,\n",
    "        color='Faria de Oliveira et al.',\n",
    "        spot_size=100,\n",
    "        groups=[name_map[i]],\n",
    "        ax=axs[0],\n",
    "        show=False\n",
    "    )\n",
    "\n",
    "    sc.pl.spatial(\n",
    "        adata_stlens,\n",
    "        color=f'leiden_{df_stlens[\"best_resolution\"].values[0]}',\n",
    "        spot_size=100,\n",
    "        groups=[f'{df_stlens[\"best_cluster\"].values[0]}'],\n",
    "        ax=axs[1],\n",
    "        show=False\n",
    "    )\n",
    "\n",
    "    sc.pl.spatial(\n",
    "        adata_scanpy,\n",
    "        color=f'leiden_{df_scanpy[\"best_resolution\"].values[0]}',\n",
    "        spot_size=100,\n",
    "        groups=[f'{df_scanpy[\"best_cluster\"].values[0]}'],\n",
    "        ax=axs[2],\n",
    "        show=False\n",
    "    )\n",
    "\n",
    "    plt.tight_layout()\n",
    "    plt.savefig(f\"./result/visiumhd/scatter_plot_by_resolution/{i}.pdf\")"
   ]
  },
  {
   "cell_type": "code",
   "execution_count": null,
   "metadata": {},
   "outputs": [],
   "source": [
    "import pandas as pd\n",
    "import seaborn as sns\n",
    "import matplotlib.pyplot as plt\n",
    "\n",
    "mpl.rcParams['font.family'] = 'Arial'\n",
    "\n",
    "merged2 = pd.merge(\n",
    "    summary_df_stlens,\n",
    "    summary_df_scanpy,\n",
    "    on='cell_type',\n",
    "    suffixes=('_stlens', '_scanpy')\n",
    "    )\n",
    "\n",
    "# Calculate correlation difference\n",
    "merged2['correlation_diff'] = merged2['best_correlation_stlens'] - merged2['best_correlation_scanpy']\n",
    "\n",
    "# Replace cell type names based on name_map\n",
    "merged2['cell_type_short'] = merged2['cell_type'].replace(name_map2)\n",
    "\n",
    "# Filter out the 'Unknown3_SM' cell type\n",
    "merged_filtered = merged2[merged2['cell_type_short'] != 'Unknown3_SM']\n",
    "\n",
    "# Sort by correlation difference\n",
    "\n",
    "merged_filtered = merged_filtered.sort_values(by='correlation_diff', ascending=False).reset_index(drop=True)\n",
    "\n",
    "# Prepare data for heatmap\n",
    "\n",
    "heatmap_data = merged_filtered[['cell_type_short', 'correlation_diff']].set_index('cell_type_short').T\n",
    "\n",
    "# Plot heatmap\n",
    "\n",
    "plt.figure(figsize=(12, 2))\n",
    "\n",
    "ax = sns.heatmap(\n",
    "    heatmap_data,\n",
    "    cmap='seismic_r',\n",
    "    center=0,\n",
    "    vmin=-0.4,\n",
    "    vmax=0.4,\n",
    "    annot=False,\n",
    "    fmt='.2f',\n",
    "    linewidths=0.5\n",
    "    )\n",
    "\n",
    "cell_labels = heatmap_data.columns\n",
    "\n",
    "ax.set_xticks(np.arange(len(cell_labels)) + 0.5)\n",
    "\n",
    "ax.set_xticklabels(cell_labels, rotation=45, ha='right', fontsize=11)\n",
    "\n",
    "ax.set_aspect(aspect=1)\n",
    "\n",
    "# correlation_diff가 0을 기준으로 부호가 바뀌는 구간을 찾음\n",
    "\n",
    "corrs = list(merged_filtered['correlation_diff'])\n",
    "\n",
    "for i in range(len(corrs)-1):\n",
    "    if corrs[i] * corrs[i+1] < 0:\n",
    "        plt.axvline(x=i+1, color='red', linestyle='--', linewidth=2)\n",
    "        break\n",
    "plt.tight_layout()\n",
    "plt.show()"
   ]
  },
  {
   "cell_type": "markdown",
   "metadata": {},
   "source": [
    "# STOmics - mouse whole brain"
   ]
  },
  {
   "cell_type": "markdown",
   "metadata": {},
   "source": [
    "## Load data"
   ]
  },
  {
   "cell_type": "code",
   "execution_count": null,
   "metadata": {},
   "outputs": [],
   "source": [
    "!wget -P ./data/stomics https://ftp.cngb.org/pub/SciRAID/stomics/STDS0000058/stomics/E16.5_E1S3_cell_bin_whole_brain.h5ad"
   ]
  },
  {
   "cell_type": "markdown",
   "metadata": {},
   "source": [
    "## filtering"
   ]
  },
  {
   "cell_type": "code",
   "execution_count": null,
   "metadata": {},
   "outputs": [],
   "source": []
  }
 ],
 "metadata": {
  "kernelspec": {
   "display_name": "kogo3",
   "language": "python",
   "name": "python3"
  },
  "language_info": {
   "codemirror_mode": {
    "name": "ipython",
    "version": 3
   },
   "file_extension": ".py",
   "mimetype": "text/x-python",
   "name": "python",
   "nbconvert_exporter": "python",
   "pygments_lexer": "ipython3",
   "version": "3.10.18"
  }
 },
 "nbformat": 4,
 "nbformat_minor": 2
}
